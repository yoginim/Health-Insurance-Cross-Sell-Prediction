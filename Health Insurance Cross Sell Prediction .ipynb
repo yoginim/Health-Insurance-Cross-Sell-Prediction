{
 "cells": [
  {
   "cell_type": "code",
   "execution_count": 2,
   "metadata": {},
   "outputs": [],
   "source": [
    "import numpy as np\n",
    "import pandas as pd\n",
    "import matplotlib.pyplot as plt\n",
    "import seaborn as sns\n",
    "from sklearn.preprocessing import LabelEncoder\n",
    "from sklearn.model_selection import train_test_split\n",
    "from sklearn.preprocessing import StandardScaler\n",
    "from sklearn.tree import DecisionTreeClassifier\n",
    "from sklearn.ensemble import RandomForestClassifier\n",
    "from xgboost import XGBClassifier\n",
    "from catboost import CatBoostClassifier\n",
    "from sklearn.model_selection import GridSearchCV\n",
    "from sklearn import metrics\n",
    "from sklearn.metrics import roc_auc_score,confusion_matrix\n",
    "import warnings\n",
    "warnings.filterwarnings('ignore')\n",
    "%matplotlib inline"
   ]
  },
  {
   "cell_type": "markdown",
   "metadata": {},
   "source": [
    "# Train dataset "
   ]
  },
  {
   "cell_type": "code",
   "execution_count": 3,
   "metadata": {},
   "outputs": [
    {
     "data": {
      "text/html": [
       "<div>\n",
       "<style scoped>\n",
       "    .dataframe tbody tr th:only-of-type {\n",
       "        vertical-align: middle;\n",
       "    }\n",
       "\n",
       "    .dataframe tbody tr th {\n",
       "        vertical-align: top;\n",
       "    }\n",
       "\n",
       "    .dataframe thead th {\n",
       "        text-align: right;\n",
       "    }\n",
       "</style>\n",
       "<table border=\"1\" class=\"dataframe\">\n",
       "  <thead>\n",
       "    <tr style=\"text-align: right;\">\n",
       "      <th></th>\n",
       "      <th>ID</th>\n",
       "      <th>City_Code</th>\n",
       "      <th>Region_Code</th>\n",
       "      <th>Accomodation_Type</th>\n",
       "      <th>Reco_Insurance_Type</th>\n",
       "      <th>Upper_Age</th>\n",
       "      <th>Lower_Age</th>\n",
       "      <th>Is_Spouse</th>\n",
       "      <th>Health Indicator</th>\n",
       "      <th>Holding_Policy_Duration</th>\n",
       "      <th>Holding_Policy_Type</th>\n",
       "      <th>Reco_Policy_Cat</th>\n",
       "      <th>Reco_Policy_Premium</th>\n",
       "      <th>Response</th>\n",
       "    </tr>\n",
       "  </thead>\n",
       "  <tbody>\n",
       "    <tr>\n",
       "      <th>0</th>\n",
       "      <td>1</td>\n",
       "      <td>C3</td>\n",
       "      <td>3213</td>\n",
       "      <td>Rented</td>\n",
       "      <td>Individual</td>\n",
       "      <td>36</td>\n",
       "      <td>36</td>\n",
       "      <td>No</td>\n",
       "      <td>X1</td>\n",
       "      <td>14+</td>\n",
       "      <td>3.0</td>\n",
       "      <td>22</td>\n",
       "      <td>11628.0</td>\n",
       "      <td>0</td>\n",
       "    </tr>\n",
       "    <tr>\n",
       "      <th>1</th>\n",
       "      <td>2</td>\n",
       "      <td>C5</td>\n",
       "      <td>1117</td>\n",
       "      <td>Owned</td>\n",
       "      <td>Joint</td>\n",
       "      <td>75</td>\n",
       "      <td>22</td>\n",
       "      <td>No</td>\n",
       "      <td>X2</td>\n",
       "      <td>NaN</td>\n",
       "      <td>NaN</td>\n",
       "      <td>22</td>\n",
       "      <td>30510.0</td>\n",
       "      <td>0</td>\n",
       "    </tr>\n",
       "    <tr>\n",
       "      <th>2</th>\n",
       "      <td>3</td>\n",
       "      <td>C5</td>\n",
       "      <td>3732</td>\n",
       "      <td>Owned</td>\n",
       "      <td>Individual</td>\n",
       "      <td>32</td>\n",
       "      <td>32</td>\n",
       "      <td>No</td>\n",
       "      <td>NaN</td>\n",
       "      <td>1.0</td>\n",
       "      <td>1.0</td>\n",
       "      <td>19</td>\n",
       "      <td>7450.0</td>\n",
       "      <td>1</td>\n",
       "    </tr>\n",
       "    <tr>\n",
       "      <th>3</th>\n",
       "      <td>4</td>\n",
       "      <td>C24</td>\n",
       "      <td>4378</td>\n",
       "      <td>Owned</td>\n",
       "      <td>Joint</td>\n",
       "      <td>52</td>\n",
       "      <td>48</td>\n",
       "      <td>No</td>\n",
       "      <td>X1</td>\n",
       "      <td>14+</td>\n",
       "      <td>3.0</td>\n",
       "      <td>19</td>\n",
       "      <td>17780.0</td>\n",
       "      <td>0</td>\n",
       "    </tr>\n",
       "    <tr>\n",
       "      <th>4</th>\n",
       "      <td>5</td>\n",
       "      <td>C8</td>\n",
       "      <td>2190</td>\n",
       "      <td>Rented</td>\n",
       "      <td>Individual</td>\n",
       "      <td>44</td>\n",
       "      <td>44</td>\n",
       "      <td>No</td>\n",
       "      <td>X2</td>\n",
       "      <td>3.0</td>\n",
       "      <td>1.0</td>\n",
       "      <td>16</td>\n",
       "      <td>10404.0</td>\n",
       "      <td>0</td>\n",
       "    </tr>\n",
       "  </tbody>\n",
       "</table>\n",
       "</div>"
      ],
      "text/plain": [
       "   ID City_Code  Region_Code Accomodation_Type Reco_Insurance_Type  Upper_Age  \\\n",
       "0   1        C3         3213            Rented          Individual         36   \n",
       "1   2        C5         1117             Owned               Joint         75   \n",
       "2   3        C5         3732             Owned          Individual         32   \n",
       "3   4       C24         4378             Owned               Joint         52   \n",
       "4   5        C8         2190            Rented          Individual         44   \n",
       "\n",
       "   Lower_Age Is_Spouse Health Indicator Holding_Policy_Duration  \\\n",
       "0         36        No               X1                     14+   \n",
       "1         22        No               X2                     NaN   \n",
       "2         32        No              NaN                     1.0   \n",
       "3         48        No               X1                     14+   \n",
       "4         44        No               X2                     3.0   \n",
       "\n",
       "   Holding_Policy_Type  Reco_Policy_Cat  Reco_Policy_Premium  Response  \n",
       "0                  3.0               22              11628.0         0  \n",
       "1                  NaN               22              30510.0         0  \n",
       "2                  1.0               19               7450.0         1  \n",
       "3                  3.0               19              17780.0         0  \n",
       "4                  1.0               16              10404.0         0  "
      ]
     },
     "execution_count": 3,
     "metadata": {},
     "output_type": "execute_result"
    }
   ],
   "source": [
    "train = pd.read_csv('train_health.csv')\n",
    "train.head()"
   ]
  },
  {
   "cell_type": "code",
   "execution_count": 4,
   "metadata": {},
   "outputs": [
    {
     "data": {
      "text/html": [
       "<div>\n",
       "<style scoped>\n",
       "    .dataframe tbody tr th:only-of-type {\n",
       "        vertical-align: middle;\n",
       "    }\n",
       "\n",
       "    .dataframe tbody tr th {\n",
       "        vertical-align: top;\n",
       "    }\n",
       "\n",
       "    .dataframe thead th {\n",
       "        text-align: right;\n",
       "    }\n",
       "</style>\n",
       "<table border=\"1\" class=\"dataframe\">\n",
       "  <thead>\n",
       "    <tr style=\"text-align: right;\">\n",
       "      <th></th>\n",
       "      <th>ID</th>\n",
       "      <th>Region_Code</th>\n",
       "      <th>Upper_Age</th>\n",
       "      <th>Lower_Age</th>\n",
       "      <th>Holding_Policy_Type</th>\n",
       "      <th>Reco_Policy_Cat</th>\n",
       "      <th>Reco_Policy_Premium</th>\n",
       "      <th>Response</th>\n",
       "    </tr>\n",
       "  </thead>\n",
       "  <tbody>\n",
       "    <tr>\n",
       "      <th>count</th>\n",
       "      <td>50882.000000</td>\n",
       "      <td>50882.000000</td>\n",
       "      <td>50882.000000</td>\n",
       "      <td>50882.000000</td>\n",
       "      <td>30631.000000</td>\n",
       "      <td>50882.000000</td>\n",
       "      <td>50882.000000</td>\n",
       "      <td>50882.000000</td>\n",
       "    </tr>\n",
       "    <tr>\n",
       "      <th>mean</th>\n",
       "      <td>25441.500000</td>\n",
       "      <td>1732.788707</td>\n",
       "      <td>44.856275</td>\n",
       "      <td>42.738866</td>\n",
       "      <td>2.439228</td>\n",
       "      <td>15.115188</td>\n",
       "      <td>14183.950069</td>\n",
       "      <td>0.239947</td>\n",
       "    </tr>\n",
       "    <tr>\n",
       "      <th>std</th>\n",
       "      <td>14688.512535</td>\n",
       "      <td>1424.081652</td>\n",
       "      <td>17.310271</td>\n",
       "      <td>17.319375</td>\n",
       "      <td>1.025923</td>\n",
       "      <td>6.340663</td>\n",
       "      <td>6590.074873</td>\n",
       "      <td>0.427055</td>\n",
       "    </tr>\n",
       "    <tr>\n",
       "      <th>min</th>\n",
       "      <td>1.000000</td>\n",
       "      <td>1.000000</td>\n",
       "      <td>18.000000</td>\n",
       "      <td>16.000000</td>\n",
       "      <td>1.000000</td>\n",
       "      <td>1.000000</td>\n",
       "      <td>2280.000000</td>\n",
       "      <td>0.000000</td>\n",
       "    </tr>\n",
       "    <tr>\n",
       "      <th>25%</th>\n",
       "      <td>12721.250000</td>\n",
       "      <td>523.000000</td>\n",
       "      <td>28.000000</td>\n",
       "      <td>27.000000</td>\n",
       "      <td>1.000000</td>\n",
       "      <td>12.000000</td>\n",
       "      <td>9248.000000</td>\n",
       "      <td>0.000000</td>\n",
       "    </tr>\n",
       "    <tr>\n",
       "      <th>50%</th>\n",
       "      <td>25441.500000</td>\n",
       "      <td>1391.000000</td>\n",
       "      <td>44.000000</td>\n",
       "      <td>40.000000</td>\n",
       "      <td>3.000000</td>\n",
       "      <td>17.000000</td>\n",
       "      <td>13178.000000</td>\n",
       "      <td>0.000000</td>\n",
       "    </tr>\n",
       "    <tr>\n",
       "      <th>75%</th>\n",
       "      <td>38161.750000</td>\n",
       "      <td>2667.000000</td>\n",
       "      <td>59.000000</td>\n",
       "      <td>57.000000</td>\n",
       "      <td>3.000000</td>\n",
       "      <td>20.000000</td>\n",
       "      <td>18096.000000</td>\n",
       "      <td>0.000000</td>\n",
       "    </tr>\n",
       "    <tr>\n",
       "      <th>max</th>\n",
       "      <td>50882.000000</td>\n",
       "      <td>6194.000000</td>\n",
       "      <td>75.000000</td>\n",
       "      <td>75.000000</td>\n",
       "      <td>4.000000</td>\n",
       "      <td>22.000000</td>\n",
       "      <td>43350.400000</td>\n",
       "      <td>1.000000</td>\n",
       "    </tr>\n",
       "  </tbody>\n",
       "</table>\n",
       "</div>"
      ],
      "text/plain": [
       "                 ID   Region_Code     Upper_Age     Lower_Age  \\\n",
       "count  50882.000000  50882.000000  50882.000000  50882.000000   \n",
       "mean   25441.500000   1732.788707     44.856275     42.738866   \n",
       "std    14688.512535   1424.081652     17.310271     17.319375   \n",
       "min        1.000000      1.000000     18.000000     16.000000   \n",
       "25%    12721.250000    523.000000     28.000000     27.000000   \n",
       "50%    25441.500000   1391.000000     44.000000     40.000000   \n",
       "75%    38161.750000   2667.000000     59.000000     57.000000   \n",
       "max    50882.000000   6194.000000     75.000000     75.000000   \n",
       "\n",
       "       Holding_Policy_Type  Reco_Policy_Cat  Reco_Policy_Premium      Response  \n",
       "count         30631.000000     50882.000000         50882.000000  50882.000000  \n",
       "mean              2.439228        15.115188         14183.950069      0.239947  \n",
       "std               1.025923         6.340663          6590.074873      0.427055  \n",
       "min               1.000000         1.000000          2280.000000      0.000000  \n",
       "25%               1.000000        12.000000          9248.000000      0.000000  \n",
       "50%               3.000000        17.000000         13178.000000      0.000000  \n",
       "75%               3.000000        20.000000         18096.000000      0.000000  \n",
       "max               4.000000        22.000000         43350.400000      1.000000  "
      ]
     },
     "execution_count": 4,
     "metadata": {},
     "output_type": "execute_result"
    }
   ],
   "source": [
    "train.describe()"
   ]
  },
  {
   "cell_type": "code",
   "execution_count": 5,
   "metadata": {},
   "outputs": [
    {
     "data": {
      "text/plain": [
       "ID                             0\n",
       "City_Code                      0\n",
       "Region_Code                    0\n",
       "Accomodation_Type              0\n",
       "Reco_Insurance_Type            0\n",
       "Upper_Age                      0\n",
       "Lower_Age                      0\n",
       "Is_Spouse                      0\n",
       "Health Indicator           11691\n",
       "Holding_Policy_Duration    20251\n",
       "Holding_Policy_Type        20251\n",
       "Reco_Policy_Cat                0\n",
       "Reco_Policy_Premium            0\n",
       "Response                       0\n",
       "dtype: int64"
      ]
     },
     "execution_count": 5,
     "metadata": {},
     "output_type": "execute_result"
    }
   ],
   "source": [
    "#checking for null values\n",
    "train.isnull().sum()"
   ]
  },
  {
   "cell_type": "markdown",
   "metadata": {},
   "source": [
    "## Missing values \n",
    "Here data is categorical therefore we will apply mode for imputation. "
   ]
  },
  {
   "cell_type": "code",
   "execution_count": 6,
   "metadata": {},
   "outputs": [
    {
     "data": {
      "text/plain": [
       "array(['14+', nan, '1.0', '3.0', '5.0', '9.0', '14.0', '7.0', '2.0',\n",
       "       '11.0', '10.0', '8.0', '6.0', '4.0', '13.0', '12.0'], dtype=object)"
      ]
     },
     "execution_count": 6,
     "metadata": {},
     "output_type": "execute_result"
    }
   ],
   "source": [
    "train['Holding_Policy_Duration'].unique()"
   ]
  },
  {
   "cell_type": "code",
   "execution_count": 7,
   "metadata": {},
   "outputs": [],
   "source": [
    "#replacing 14+ with 15.0\n",
    "train['Holding_Policy_Duration']=train['Holding_Policy_Duration'].replace('14+',15.0)\n",
    "#imputing missing values\n",
    "train['Holding_Policy_Duration'].replace(np.nan,train['Holding_Policy_Duration'].mode()[0],inplace=True)\n",
    "#coverting to string \n",
    "train['Holding_Policy_Duration']=train['Holding_Policy_Duration'].astype(float)"
   ]
  },
  {
   "cell_type": "code",
   "execution_count": 8,
   "metadata": {},
   "outputs": [
    {
     "data": {
      "text/plain": [
       "array(['X1', 'X2', nan, 'X4', 'X3', 'X6', 'X5', 'X8', 'X7', 'X9'],\n",
       "      dtype=object)"
      ]
     },
     "execution_count": 8,
     "metadata": {},
     "output_type": "execute_result"
    }
   ],
   "source": [
    "train['Health Indicator'].unique()"
   ]
  },
  {
   "cell_type": "code",
   "execution_count": 9,
   "metadata": {},
   "outputs": [],
   "source": [
    "#imputing missing values\n",
    "train['Health Indicator'].replace(np.nan,train['Health Indicator'].mode()[0],inplace=True)"
   ]
  },
  {
   "cell_type": "code",
   "execution_count": 10,
   "metadata": {},
   "outputs": [
    {
     "data": {
      "text/plain": [
       "array([ 3., nan,  1.,  4.,  2.])"
      ]
     },
     "execution_count": 10,
     "metadata": {},
     "output_type": "execute_result"
    }
   ],
   "source": [
    "train['Holding_Policy_Type'].unique()"
   ]
  },
  {
   "cell_type": "code",
   "execution_count": 11,
   "metadata": {},
   "outputs": [],
   "source": [
    "#imputing missing values\n",
    "train['Holding_Policy_Type'].replace(np.nan,train['Holding_Policy_Type'].mode()[0],inplace=True)"
   ]
  },
  {
   "cell_type": "code",
   "execution_count": 12,
   "metadata": {},
   "outputs": [
    {
     "data": {
      "text/plain": [
       "ID                         0\n",
       "City_Code                  0\n",
       "Region_Code                0\n",
       "Accomodation_Type          0\n",
       "Reco_Insurance_Type        0\n",
       "Upper_Age                  0\n",
       "Lower_Age                  0\n",
       "Is_Spouse                  0\n",
       "Health Indicator           0\n",
       "Holding_Policy_Duration    0\n",
       "Holding_Policy_Type        0\n",
       "Reco_Policy_Cat            0\n",
       "Reco_Policy_Premium        0\n",
       "Response                   0\n",
       "dtype: int64"
      ]
     },
     "execution_count": 12,
     "metadata": {},
     "output_type": "execute_result"
    }
   ],
   "source": [
    "train.isnull().sum()"
   ]
  },
  {
   "cell_type": "markdown",
   "metadata": {},
   "source": [
    "### Using Label encoder for categorical variable"
   ]
  },
  {
   "cell_type": "code",
   "execution_count": 13,
   "metadata": {},
   "outputs": [],
   "source": [
    "le=LabelEncoder()\n",
    "train['City_Code']=le.fit_transform(train['City_Code'])\n",
    "train['Health Indicator']=le.fit_transform(train['Health Indicator'])\n",
    "train['Accomodation_Type']=le.fit_transform(train['Accomodation_Type'])\n",
    "train['Reco_Insurance_Type']=le.fit_transform(train['Reco_Insurance_Type'])\n",
    "train['Is_Spouse']=le.fit_transform(train['Is_Spouse'])"
   ]
  },
  {
   "cell_type": "code",
   "execution_count": 14,
   "metadata": {},
   "outputs": [
    {
     "data": {
      "text/html": [
       "<div>\n",
       "<style scoped>\n",
       "    .dataframe tbody tr th:only-of-type {\n",
       "        vertical-align: middle;\n",
       "    }\n",
       "\n",
       "    .dataframe tbody tr th {\n",
       "        vertical-align: top;\n",
       "    }\n",
       "\n",
       "    .dataframe thead th {\n",
       "        text-align: right;\n",
       "    }\n",
       "</style>\n",
       "<table border=\"1\" class=\"dataframe\">\n",
       "  <thead>\n",
       "    <tr style=\"text-align: right;\">\n",
       "      <th></th>\n",
       "      <th>ID</th>\n",
       "      <th>City_Code</th>\n",
       "      <th>Region_Code</th>\n",
       "      <th>Accomodation_Type</th>\n",
       "      <th>Reco_Insurance_Type</th>\n",
       "      <th>Upper_Age</th>\n",
       "      <th>Lower_Age</th>\n",
       "      <th>Is_Spouse</th>\n",
       "      <th>Health Indicator</th>\n",
       "      <th>Holding_Policy_Duration</th>\n",
       "      <th>Holding_Policy_Type</th>\n",
       "      <th>Reco_Policy_Cat</th>\n",
       "      <th>Reco_Policy_Premium</th>\n",
       "      <th>Response</th>\n",
       "    </tr>\n",
       "  </thead>\n",
       "  <tbody>\n",
       "    <tr>\n",
       "      <th>0</th>\n",
       "      <td>1</td>\n",
       "      <td>22</td>\n",
       "      <td>3213</td>\n",
       "      <td>1</td>\n",
       "      <td>0</td>\n",
       "      <td>36</td>\n",
       "      <td>36</td>\n",
       "      <td>0</td>\n",
       "      <td>0</td>\n",
       "      <td>15.0</td>\n",
       "      <td>3.0</td>\n",
       "      <td>22</td>\n",
       "      <td>11628.0</td>\n",
       "      <td>0</td>\n",
       "    </tr>\n",
       "    <tr>\n",
       "      <th>1</th>\n",
       "      <td>2</td>\n",
       "      <td>31</td>\n",
       "      <td>1117</td>\n",
       "      <td>0</td>\n",
       "      <td>1</td>\n",
       "      <td>75</td>\n",
       "      <td>22</td>\n",
       "      <td>0</td>\n",
       "      <td>1</td>\n",
       "      <td>1.0</td>\n",
       "      <td>3.0</td>\n",
       "      <td>22</td>\n",
       "      <td>30510.0</td>\n",
       "      <td>0</td>\n",
       "    </tr>\n",
       "    <tr>\n",
       "      <th>2</th>\n",
       "      <td>3</td>\n",
       "      <td>31</td>\n",
       "      <td>3732</td>\n",
       "      <td>0</td>\n",
       "      <td>0</td>\n",
       "      <td>32</td>\n",
       "      <td>32</td>\n",
       "      <td>0</td>\n",
       "      <td>0</td>\n",
       "      <td>1.0</td>\n",
       "      <td>1.0</td>\n",
       "      <td>19</td>\n",
       "      <td>7450.0</td>\n",
       "      <td>1</td>\n",
       "    </tr>\n",
       "    <tr>\n",
       "      <th>3</th>\n",
       "      <td>4</td>\n",
       "      <td>16</td>\n",
       "      <td>4378</td>\n",
       "      <td>0</td>\n",
       "      <td>1</td>\n",
       "      <td>52</td>\n",
       "      <td>48</td>\n",
       "      <td>0</td>\n",
       "      <td>0</td>\n",
       "      <td>15.0</td>\n",
       "      <td>3.0</td>\n",
       "      <td>19</td>\n",
       "      <td>17780.0</td>\n",
       "      <td>0</td>\n",
       "    </tr>\n",
       "    <tr>\n",
       "      <th>4</th>\n",
       "      <td>5</td>\n",
       "      <td>34</td>\n",
       "      <td>2190</td>\n",
       "      <td>1</td>\n",
       "      <td>0</td>\n",
       "      <td>44</td>\n",
       "      <td>44</td>\n",
       "      <td>0</td>\n",
       "      <td>1</td>\n",
       "      <td>3.0</td>\n",
       "      <td>1.0</td>\n",
       "      <td>16</td>\n",
       "      <td>10404.0</td>\n",
       "      <td>0</td>\n",
       "    </tr>\n",
       "  </tbody>\n",
       "</table>\n",
       "</div>"
      ],
      "text/plain": [
       "   ID  City_Code  Region_Code  Accomodation_Type  Reco_Insurance_Type  \\\n",
       "0   1         22         3213                  1                    0   \n",
       "1   2         31         1117                  0                    1   \n",
       "2   3         31         3732                  0                    0   \n",
       "3   4         16         4378                  0                    1   \n",
       "4   5         34         2190                  1                    0   \n",
       "\n",
       "   Upper_Age  Lower_Age  Is_Spouse  Health Indicator  Holding_Policy_Duration  \\\n",
       "0         36         36          0                 0                     15.0   \n",
       "1         75         22          0                 1                      1.0   \n",
       "2         32         32          0                 0                      1.0   \n",
       "3         52         48          0                 0                     15.0   \n",
       "4         44         44          0                 1                      3.0   \n",
       "\n",
       "   Holding_Policy_Type  Reco_Policy_Cat  Reco_Policy_Premium  Response  \n",
       "0                  3.0               22              11628.0         0  \n",
       "1                  3.0               22              30510.0         0  \n",
       "2                  1.0               19               7450.0         1  \n",
       "3                  3.0               19              17780.0         0  \n",
       "4                  1.0               16              10404.0         0  "
      ]
     },
     "execution_count": 14,
     "metadata": {},
     "output_type": "execute_result"
    }
   ],
   "source": [
    "train.head()"
   ]
  },
  {
   "cell_type": "markdown",
   "metadata": {},
   "source": [
    "### Dealing with Outlier "
   ]
  },
  {
   "cell_type": "code",
   "execution_count": 15,
   "metadata": {},
   "outputs": [
    {
     "name": "stdout",
     "output_type": "stream",
     "text": [
      "ID\n"
     ]
    },
    {
     "data": {
      "image/png": "[encoded data removed]",
      "text/plain": [
       "<Figure size 432x288 with 1 Axes>"
      ]
     },
     "metadata": {
      "needs_background": "light"
     },
     "output_type": "display_data"
    },
    {
     "name": "stdout",
     "output_type": "stream",
     "text": [
      "City_Code\n"
     ]
    },
    {
     "data": {
      "image/png": "[encoded data removed]",
      "text/plain": [
       "<Figure size 432x288 with 1 Axes>"
      ]
     },
     "metadata": {
      "needs_background": "light"
     },
     "output_type": "display_data"
    },
    {
     "name": "stdout",
     "output_type": "stream",
     "text": [
      "Region_Code\n"
     ]
    },
    {
     "data": {
      "image/png": "[encoded data removed]",
      "text/plain": [
       "<Figure size 432x288 with 1 Axes>"
      ]
     },
     "metadata": {
      "needs_background": "light"
     },
     "output_type": "display_data"
    },
    {
     "name": "stdout",
     "output_type": "stream",
     "text": [
      "Accomodation_Type\n"
     ]
    },
    {
     "data": {
      "image/png": "[encoded data removed]",
      "text/plain": [
       "<Figure size 432x288 with 1 Axes>"
      ]
     },
     "metadata": {
      "needs_background": "light"
     },
     "output_type": "display_data"
    },
    {
     "name": "stdout",
     "output_type": "stream",
     "text": [
      "Reco_Insurance_Type\n"
     ]
    },
    {
     "data": {
      "image/png": "[encoded data removed]",
      "text/plain": [
       "<Figure size 432x288 with 1 Axes>"
      ]
     },
     "metadata": {
      "needs_background": "light"
     },
     "output_type": "display_data"
    },
    {
     "name": "stdout",
     "output_type": "stream",
     "text": [
      "Upper_Age\n"
     ]
    },
    {
     "data": {
      "image/png": "[encoded data removed]",
      "text/plain": [
       "<Figure size 432x288 with 1 Axes>"
      ]
     },
     "metadata": {
      "needs_background": "light"
     },
     "output_type": "display_data"
    },
    {
     "name": "stdout",
     "output_type": "stream",
     "text": [
      "Lower_Age\n"
     ]
    },
    {
     "data": {
      "image/png": "[encoded data removed]",
      "text/plain": [
       "<Figure size 432x288 with 1 Axes>"
      ]
     },
     "metadata": {
      "needs_background": "light"
     },
     "output_type": "display_data"
    },
    {
     "name": "stdout",
     "output_type": "stream",
     "text": [
      "Is_Spouse\n"
     ]
    },
    {
     "data": {
      "image/png": "[encoded data removed]",
      "text/plain": [
       "<Figure size 432x288 with 1 Axes>"
      ]
     },
     "metadata": {
      "needs_background": "light"
     },
     "output_type": "display_data"
    },
    {
     "name": "stdout",
     "output_type": "stream",
     "text": [
      "Health Indicator\n"
     ]
    },
    {
     "data": {
      "image/png": "[encoded data removed]",
      "text/plain": [
       "<Figure size 432x288 with 1 Axes>"
      ]
     },
     "metadata": {
      "needs_background": "light"
     },
     "output_type": "display_data"
    },
    {
     "name": "stdout",
     "output_type": "stream",
     "text": [
      "Holding_Policy_Duration\n"
     ]
    },
    {
     "data": {
      "image/png": "[encoded data removed]",
      "text/plain": [
       "<Figure size 432x288 with 1 Axes>"
      ]
     },
     "metadata": {
      "needs_background": "light"
     },
     "output_type": "display_data"
    },
    {
     "name": "stdout",
     "output_type": "stream",
     "text": [
      "Holding_Policy_Type\n"
     ]
    },
    {
     "data": {
      "image/png": "[encoded data removed]",
      "text/plain": [
       "<Figure size 432x288 with 1 Axes>"
      ]
     },
     "metadata": {
      "needs_background": "light"
     },
     "output_type": "display_data"
    },
    {
     "name": "stdout",
     "output_type": "stream",
     "text": [
      "Reco_Policy_Cat\n"
     ]
    },
    {
     "data": {
      "image/png": "[encoded data removed]",
      "text/plain": [
       "<Figure size 432x288 with 1 Axes>"
      ]
     },
     "metadata": {
      "needs_background": "light"
     },
     "output_type": "display_data"
    },
    {
     "name": "stdout",
     "output_type": "stream",
     "text": [
      "Reco_Policy_Premium\n"
     ]
    },
    {
     "data": {
      "image/png": "[encoded data removed]",
      "text/plain": [
       "<Figure size 432x288 with 1 Axes>"
      ]
     },
     "metadata": {
      "needs_background": "light"
     },
     "output_type": "display_data"
    }
   ],
   "source": [
    "for col in train.iloc[:,:-1].columns:\n",
    "    print(col)\n",
    "    sns.boxplot(x=train[col],data=train)\n",
    "    plt.show()"
   ]
  },
  {
   "cell_type": "markdown",
   "metadata": {},
   "source": [
    "We can observe some outiers, we will removeit."
   ]
  },
  {
   "cell_type": "code",
   "execution_count": 17,
   "metadata": {},
   "outputs": [
    {
     "name": "stdout",
     "output_type": "stream",
     "text": [
      "ID\n"
     ]
    },
    {
     "data": {
      "image/png": "[encoded data removed]",
      "text/plain": [
       "<Figure size 432x288 with 1 Axes>"
      ]
     },
     "metadata": {
      "needs_background": "light"
     },
     "output_type": "display_data"
    },
    {
     "name": "stdout",
     "output_type": "stream",
     "text": [
      "City_Code\n"
     ]
    },
    {
     "data": {
      "image/png": "[encoded data removed]",
      "text/plain": [
       "<Figure size 432x288 with 1 Axes>"
      ]
     },
     "metadata": {
      "needs_background": "light"
     },
     "output_type": "display_data"
    },
    {
     "name": "stdout",
     "output_type": "stream",
     "text": [
      "Region_Code\n"
     ]
    },
    {
     "data": {
      "image/png": "[encoded data removed]",
      "text/plain": [
       "<Figure size 432x288 with 1 Axes>"
      ]
     },
     "metadata": {
      "needs_background": "light"
     },
     "output_type": "display_data"
    },
    {
     "name": "stdout",
     "output_type": "stream",
     "text": [
      "Accomodation_Type\n"
     ]
    },
    {
     "data": {
      "image/png": "[encoded data removed]",
      "text/plain": [
       "<Figure size 432x288 with 1 Axes>"
      ]
     },
     "metadata": {
      "needs_background": "light"
     },
     "output_type": "display_data"
    },
    {
     "name": "stdout",
     "output_type": "stream",
     "text": [
      "Reco_Insurance_Type\n"
     ]
    },
    {
     "data": {
      "image/png": "[encoded data removed]",
      "text/plain": [
       "<Figure size 432x288 with 1 Axes>"
      ]
     },
     "metadata": {
      "needs_background": "light"
     },
     "output_type": "display_data"
    },
    {
     "name": "stdout",
     "output_type": "stream",
     "text": [
      "Upper_Age\n"
     ]
    },
    {
     "data": {
      "image/png": "[encoded data removed]",
      "text/plain": [
       "<Figure size 432x288 with 1 Axes>"
      ]
     },
     "metadata": {
      "needs_background": "light"
     },
     "output_type": "display_data"
    },
    {
     "name": "stdout",
     "output_type": "stream",
     "text": [
      "Lower_Age\n"
     ]
    },
    {
     "data": {
      "image/png": "[encoded data removed]",
      "text/plain": [
       "<Figure size 432x288 with 1 Axes>"
      ]
     },
     "metadata": {
      "needs_background": "light"
     },
     "output_type": "display_data"
    },
    {
     "name": "stdout",
     "output_type": "stream",
     "text": [
      "Is_Spouse\n"
     ]
    },
    {
     "data": {
      "image/png": "[encoded data removed]",
      "text/plain": [
       "<Figure size 432x288 with 1 Axes>"
      ]
     },
     "metadata": {
      "needs_background": "light"
     },
     "output_type": "display_data"
    },
    {
     "name": "stdout",
     "output_type": "stream",
     "text": [
      "Health Indicator\n"
     ]
    },
    {
     "data": {
      "image/png": "[encoded data removed]",
      "text/plain": [
       "<Figure size 432x288 with 1 Axes>"
      ]
     },
     "metadata": {
      "needs_background": "light"
     },
     "output_type": "display_data"
    },
    {
     "name": "stdout",
     "output_type": "stream",
     "text": [
      "Holding_Policy_Duration\n"
     ]
    },
    {
     "data": {
      "image/png": "[encoded data removed]",
      "text/plain": [
       "<Figure size 432x288 with 1 Axes>"
      ]
     },
     "metadata": {
      "needs_background": "light"
     },
     "output_type": "display_data"
    },
    {
     "name": "stdout",
     "output_type": "stream",
     "text": [
      "Holding_Policy_Type\n"
     ]
    },
    {
     "data": {
      "image/png": "[encoded data removed]",
      "text/plain": [
       "<Figure size 432x288 with 1 Axes>"
      ]
     },
     "metadata": {
      "needs_background": "light"
     },
     "output_type": "display_data"
    },
    {
     "name": "stdout",
     "output_type": "stream",
     "text": [
      "Reco_Policy_Cat\n"
     ]
    },
    {
     "data": {
      "image/png": "[encoded data removed]",
      "text/plain": [
       "<Figure size 432x288 with 1 Axes>"
      ]
     },
     "metadata": {
      "needs_background": "light"
     },
     "output_type": "display_data"
    },
    {
     "name": "stdout",
     "output_type": "stream",
     "text": [
      "Reco_Policy_Premium\n"
     ]
    },
    {
     "data": {
      "image/png": "[encoded data removed]",
      "text/plain": [
       "<Figure size 432x288 with 1 Axes>"
      ]
     },
     "metadata": {
      "needs_background": "light"
     },
     "output_type": "display_data"
    }
   ],
   "source": [
    "def boxoutlier(var):\n",
    "    for x in var.iloc[:,:-1].columns :        \n",
    "        Q1=var[x].quantile(0.25)\n",
    "        Q3=var[x].quantile(0.75)\n",
    "        IQR=Q3-Q1\n",
    "        Lower = Q1-(1.5*IQR)\n",
    "        Upper = Q3+(1.5*IQR)\n",
    "        var.loc[:,x]=np.where(var[x].values > Upper,Upper,var[x].values)\n",
    "        var.loc[:,x]=np.where(var[x].values < Lower,Lower,var[x].values)\n",
    "        \n",
    "    return var\n",
    "df1=boxoutlier(train)\n",
    "\n",
    "for col in df1.iloc[:,:-1].columns:\n",
    "    print(col)\n",
    "    sns.boxplot(x=df1[col],data=df1)\n",
    "    plt.show()"
   ]
  },
  {
   "cell_type": "markdown",
   "metadata": {},
   "source": [
    "# Test Data "
   ]
  },
  {
   "cell_type": "code",
   "execution_count": 18,
   "metadata": {},
   "outputs": [
    {
     "data": {
      "text/html": [
       "<div>\n",
       "<style scoped>\n",
       "    .dataframe tbody tr th:only-of-type {\n",
       "        vertical-align: middle;\n",
       "    }\n",
       "\n",
       "    .dataframe tbody tr th {\n",
       "        vertical-align: top;\n",
       "    }\n",
       "\n",
       "    .dataframe thead th {\n",
       "        text-align: right;\n",
       "    }\n",
       "</style>\n",
       "<table border=\"1\" class=\"dataframe\">\n",
       "  <thead>\n",
       "    <tr style=\"text-align: right;\">\n",
       "      <th></th>\n",
       "      <th>ID</th>\n",
       "      <th>City_Code</th>\n",
       "      <th>Region_Code</th>\n",
       "      <th>Accomodation_Type</th>\n",
       "      <th>Reco_Insurance_Type</th>\n",
       "      <th>Upper_Age</th>\n",
       "      <th>Lower_Age</th>\n",
       "      <th>Is_Spouse</th>\n",
       "      <th>Health Indicator</th>\n",
       "      <th>Holding_Policy_Duration</th>\n",
       "      <th>Holding_Policy_Type</th>\n",
       "      <th>Reco_Policy_Cat</th>\n",
       "      <th>Reco_Policy_Premium</th>\n",
       "    </tr>\n",
       "  </thead>\n",
       "  <tbody>\n",
       "    <tr>\n",
       "      <th>0</th>\n",
       "      <td>50883</td>\n",
       "      <td>C1</td>\n",
       "      <td>156</td>\n",
       "      <td>Owned</td>\n",
       "      <td>Individual</td>\n",
       "      <td>30</td>\n",
       "      <td>30</td>\n",
       "      <td>No</td>\n",
       "      <td>NaN</td>\n",
       "      <td>6.0</td>\n",
       "      <td>3.0</td>\n",
       "      <td>5</td>\n",
       "      <td>11934.0</td>\n",
       "    </tr>\n",
       "    <tr>\n",
       "      <th>1</th>\n",
       "      <td>50884</td>\n",
       "      <td>C4</td>\n",
       "      <td>7</td>\n",
       "      <td>Owned</td>\n",
       "      <td>Joint</td>\n",
       "      <td>69</td>\n",
       "      <td>68</td>\n",
       "      <td>Yes</td>\n",
       "      <td>X1</td>\n",
       "      <td>3.0</td>\n",
       "      <td>3.0</td>\n",
       "      <td>18</td>\n",
       "      <td>32204.8</td>\n",
       "    </tr>\n",
       "    <tr>\n",
       "      <th>2</th>\n",
       "      <td>50885</td>\n",
       "      <td>C1</td>\n",
       "      <td>564</td>\n",
       "      <td>Rented</td>\n",
       "      <td>Individual</td>\n",
       "      <td>28</td>\n",
       "      <td>28</td>\n",
       "      <td>No</td>\n",
       "      <td>X3</td>\n",
       "      <td>2.0</td>\n",
       "      <td>4.0</td>\n",
       "      <td>17</td>\n",
       "      <td>9240.0</td>\n",
       "    </tr>\n",
       "    <tr>\n",
       "      <th>3</th>\n",
       "      <td>50886</td>\n",
       "      <td>C3</td>\n",
       "      <td>1177</td>\n",
       "      <td>Rented</td>\n",
       "      <td>Individual</td>\n",
       "      <td>23</td>\n",
       "      <td>23</td>\n",
       "      <td>No</td>\n",
       "      <td>X3</td>\n",
       "      <td>3.0</td>\n",
       "      <td>3.0</td>\n",
       "      <td>18</td>\n",
       "      <td>9086.0</td>\n",
       "    </tr>\n",
       "    <tr>\n",
       "      <th>4</th>\n",
       "      <td>50887</td>\n",
       "      <td>C1</td>\n",
       "      <td>951</td>\n",
       "      <td>Owned</td>\n",
       "      <td>Individual</td>\n",
       "      <td>75</td>\n",
       "      <td>75</td>\n",
       "      <td>No</td>\n",
       "      <td>X3</td>\n",
       "      <td>NaN</td>\n",
       "      <td>NaN</td>\n",
       "      <td>5</td>\n",
       "      <td>22534.0</td>\n",
       "    </tr>\n",
       "  </tbody>\n",
       "</table>\n",
       "</div>"
      ],
      "text/plain": [
       "      ID City_Code  Region_Code Accomodation_Type Reco_Insurance_Type  \\\n",
       "0  50883        C1          156             Owned          Individual   \n",
       "1  50884        C4            7             Owned               Joint   \n",
       "2  50885        C1          564            Rented          Individual   \n",
       "3  50886        C3         1177            Rented          Individual   \n",
       "4  50887        C1          951             Owned          Individual   \n",
       "\n",
       "   Upper_Age  Lower_Age Is_Spouse Health Indicator Holding_Policy_Duration  \\\n",
       "0         30         30        No              NaN                     6.0   \n",
       "1         69         68       Yes               X1                     3.0   \n",
       "2         28         28        No               X3                     2.0   \n",
       "3         23         23        No               X3                     3.0   \n",
       "4         75         75        No               X3                     NaN   \n",
       "\n",
       "   Holding_Policy_Type  Reco_Policy_Cat  Reco_Policy_Premium  \n",
       "0                  3.0                5              11934.0  \n",
       "1                  3.0               18              32204.8  \n",
       "2                  4.0               17               9240.0  \n",
       "3                  3.0               18               9086.0  \n",
       "4                  NaN                5              22534.0  "
      ]
     },
     "execution_count": 18,
     "metadata": {},
     "output_type": "execute_result"
    }
   ],
   "source": [
    "test = pd.read_csv('test_health.csv')\n",
    "test.head()"
   ]
  },
  {
   "cell_type": "code",
   "execution_count": 19,
   "metadata": {},
   "outputs": [
    {
     "data": {
      "text/html": [
       "<div>\n",
       "<style scoped>\n",
       "    .dataframe tbody tr th:only-of-type {\n",
       "        vertical-align: middle;\n",
       "    }\n",
       "\n",
       "    .dataframe tbody tr th {\n",
       "        vertical-align: top;\n",
       "    }\n",
       "\n",
       "    .dataframe thead th {\n",
       "        text-align: right;\n",
       "    }\n",
       "</style>\n",
       "<table border=\"1\" class=\"dataframe\">\n",
       "  <thead>\n",
       "    <tr style=\"text-align: right;\">\n",
       "      <th></th>\n",
       "      <th>ID</th>\n",
       "      <th>Region_Code</th>\n",
       "      <th>Upper_Age</th>\n",
       "      <th>Lower_Age</th>\n",
       "      <th>Holding_Policy_Type</th>\n",
       "      <th>Reco_Policy_Cat</th>\n",
       "      <th>Reco_Policy_Premium</th>\n",
       "    </tr>\n",
       "  </thead>\n",
       "  <tbody>\n",
       "    <tr>\n",
       "      <th>count</th>\n",
       "      <td>21805.000000</td>\n",
       "      <td>21805.000000</td>\n",
       "      <td>21805.000000</td>\n",
       "      <td>21805.000000</td>\n",
       "      <td>13202.000000</td>\n",
       "      <td>21805.000000</td>\n",
       "      <td>21805.000000</td>\n",
       "    </tr>\n",
       "    <tr>\n",
       "      <th>mean</th>\n",
       "      <td>61785.000000</td>\n",
       "      <td>1748.737491</td>\n",
       "      <td>44.877734</td>\n",
       "      <td>42.748085</td>\n",
       "      <td>2.440085</td>\n",
       "      <td>15.138363</td>\n",
       "      <td>14220.306581</td>\n",
       "    </tr>\n",
       "    <tr>\n",
       "      <th>std</th>\n",
       "      <td>6294.705646</td>\n",
       "      <td>1438.358949</td>\n",
       "      <td>17.254898</td>\n",
       "      <td>17.269112</td>\n",
       "      <td>1.037627</td>\n",
       "      <td>6.302805</td>\n",
       "      <td>6497.996164</td>\n",
       "    </tr>\n",
       "    <tr>\n",
       "      <th>min</th>\n",
       "      <td>50883.000000</td>\n",
       "      <td>1.000000</td>\n",
       "      <td>18.000000</td>\n",
       "      <td>16.000000</td>\n",
       "      <td>1.000000</td>\n",
       "      <td>1.000000</td>\n",
       "      <td>2152.000000</td>\n",
       "    </tr>\n",
       "    <tr>\n",
       "      <th>25%</th>\n",
       "      <td>56334.000000</td>\n",
       "      <td>535.000000</td>\n",
       "      <td>28.000000</td>\n",
       "      <td>27.000000</td>\n",
       "      <td>1.000000</td>\n",
       "      <td>12.000000</td>\n",
       "      <td>9285.000000</td>\n",
       "    </tr>\n",
       "    <tr>\n",
       "      <th>50%</th>\n",
       "      <td>61785.000000</td>\n",
       "      <td>1392.000000</td>\n",
       "      <td>44.000000</td>\n",
       "      <td>41.000000</td>\n",
       "      <td>3.000000</td>\n",
       "      <td>17.000000</td>\n",
       "      <td>13244.000000</td>\n",
       "    </tr>\n",
       "    <tr>\n",
       "      <th>75%</th>\n",
       "      <td>67236.000000</td>\n",
       "      <td>2712.000000</td>\n",
       "      <td>59.000000</td>\n",
       "      <td>57.000000</td>\n",
       "      <td>3.000000</td>\n",
       "      <td>20.000000</td>\n",
       "      <td>18201.600000</td>\n",
       "    </tr>\n",
       "    <tr>\n",
       "      <th>max</th>\n",
       "      <td>72687.000000</td>\n",
       "      <td>6185.000000</td>\n",
       "      <td>75.000000</td>\n",
       "      <td>75.000000</td>\n",
       "      <td>4.000000</td>\n",
       "      <td>22.000000</td>\n",
       "      <td>43776.000000</td>\n",
       "    </tr>\n",
       "  </tbody>\n",
       "</table>\n",
       "</div>"
      ],
      "text/plain": [
       "                 ID   Region_Code     Upper_Age     Lower_Age  \\\n",
       "count  21805.000000  21805.000000  21805.000000  21805.000000   \n",
       "mean   61785.000000   1748.737491     44.877734     42.748085   \n",
       "std     6294.705646   1438.358949     17.254898     17.269112   \n",
       "min    50883.000000      1.000000     18.000000     16.000000   \n",
       "25%    56334.000000    535.000000     28.000000     27.000000   \n",
       "50%    61785.000000   1392.000000     44.000000     41.000000   \n",
       "75%    67236.000000   2712.000000     59.000000     57.000000   \n",
       "max    72687.000000   6185.000000     75.000000     75.000000   \n",
       "\n",
       "       Holding_Policy_Type  Reco_Policy_Cat  Reco_Policy_Premium  \n",
       "count         13202.000000     21805.000000         21805.000000  \n",
       "mean              2.440085        15.138363         14220.306581  \n",
       "std               1.037627         6.302805          6497.996164  \n",
       "min               1.000000         1.000000          2152.000000  \n",
       "25%               1.000000        12.000000          9285.000000  \n",
       "50%               3.000000        17.000000         13244.000000  \n",
       "75%               3.000000        20.000000         18201.600000  \n",
       "max               4.000000        22.000000         43776.000000  "
      ]
     },
     "execution_count": 19,
     "metadata": {},
     "output_type": "execute_result"
    }
   ],
   "source": [
    "test.describe()"
   ]
  },
  {
   "cell_type": "markdown",
   "metadata": {},
   "source": [
    "### Missing values"
   ]
  },
  {
   "cell_type": "code",
   "execution_count": 20,
   "metadata": {},
   "outputs": [
    {
     "data": {
      "text/plain": [
       "ID                            0\n",
       "City_Code                     0\n",
       "Region_Code                   0\n",
       "Accomodation_Type             0\n",
       "Reco_Insurance_Type           0\n",
       "Upper_Age                     0\n",
       "Lower_Age                     0\n",
       "Is_Spouse                     0\n",
       "Health Indicator           5027\n",
       "Holding_Policy_Duration    8603\n",
       "Holding_Policy_Type        8603\n",
       "Reco_Policy_Cat               0\n",
       "Reco_Policy_Premium           0\n",
       "dtype: int64"
      ]
     },
     "execution_count": 20,
     "metadata": {},
     "output_type": "execute_result"
    }
   ],
   "source": [
    "test.isnull().sum()"
   ]
  },
  {
   "cell_type": "code",
   "execution_count": 21,
   "metadata": {},
   "outputs": [
    {
     "data": {
      "text/plain": [
       "array(['6.0', '3.0', '2.0', nan, '14+', '5.0', '1.0', '4.0', '12.0',\n",
       "       '11.0', '7.0', '9.0', '13.0', '8.0', '14.0', '10.0'], dtype=object)"
      ]
     },
     "execution_count": 21,
     "metadata": {},
     "output_type": "execute_result"
    }
   ],
   "source": [
    "test['Holding_Policy_Duration'].unique()"
   ]
  },
  {
   "cell_type": "code",
   "execution_count": 22,
   "metadata": {},
   "outputs": [],
   "source": [
    "#replacing 14+ with 15.0\n",
    "test['Holding_Policy_Duration']=test['Holding_Policy_Duration'].replace('14+',15.0)\n",
    "#imputing missing values\n",
    "test['Holding_Policy_Duration'].replace(np.nan,test['Holding_Policy_Duration'].mode()[0],inplace=True)\n",
    "#coverting to string \n",
    "test['Holding_Policy_Duration']=test['Holding_Policy_Duration'].astype(float)"
   ]
  },
  {
   "cell_type": "code",
   "execution_count": 23,
   "metadata": {},
   "outputs": [
    {
     "data": {
      "text/plain": [
       "array([nan, 'X1', 'X3', 'X2', 'X5', 'X4', 'X7', 'X6', 'X9', 'X8'],\n",
       "      dtype=object)"
      ]
     },
     "execution_count": 23,
     "metadata": {},
     "output_type": "execute_result"
    }
   ],
   "source": [
    "test['Health Indicator'].unique()"
   ]
  },
  {
   "cell_type": "code",
   "execution_count": 24,
   "metadata": {},
   "outputs": [],
   "source": [
    "#imputing missing values\n",
    "test['Health Indicator'].replace(np.nan,test['Health Indicator'].mode()[0],inplace=True)"
   ]
  },
  {
   "cell_type": "code",
   "execution_count": 28,
   "metadata": {},
   "outputs": [
    {
     "data": {
      "text/plain": [
       "array([ 3.,  4., nan,  1.,  2.])"
      ]
     },
     "execution_count": 28,
     "metadata": {},
     "output_type": "execute_result"
    }
   ],
   "source": [
    "test['Holding_Policy_Type'].unique()"
   ]
  },
  {
   "cell_type": "code",
   "execution_count": 29,
   "metadata": {},
   "outputs": [],
   "source": [
    "#imputing missing values\n",
    "test['Holding_Policy_Type'].replace(np.nan,test['Holding_Policy_Type'].mode()[0],inplace=True)"
   ]
  },
  {
   "cell_type": "code",
   "execution_count": 30,
   "metadata": {},
   "outputs": [
    {
     "data": {
      "text/plain": [
       "ID                         0\n",
       "City_Code                  0\n",
       "Region_Code                0\n",
       "Accomodation_Type          0\n",
       "Reco_Insurance_Type        0\n",
       "Upper_Age                  0\n",
       "Lower_Age                  0\n",
       "Is_Spouse                  0\n",
       "Health Indicator           0\n",
       "Holding_Policy_Duration    0\n",
       "Holding_Policy_Type        0\n",
       "Reco_Policy_Cat            0\n",
       "Reco_Policy_Premium        0\n",
       "dtype: int64"
      ]
     },
     "execution_count": 30,
     "metadata": {},
     "output_type": "execute_result"
    }
   ],
   "source": [
    "test.isnull().sum()"
   ]
  },
  {
   "cell_type": "markdown",
   "metadata": {},
   "source": [
    "### Using Label encoder for categorical variable"
   ]
  },
  {
   "cell_type": "code",
   "execution_count": 31,
   "metadata": {},
   "outputs": [],
   "source": [
    "le=LabelEncoder()\n",
    "test['City_Code']=le.fit_transform(test['City_Code'])\n",
    "test['Health Indicator']=le.fit_transform(test['Health Indicator'])\n",
    "test['Accomodation_Type']=le.fit_transform(test['Accomodation_Type'])\n",
    "test['Reco_Insurance_Type']=le.fit_transform(test['Reco_Insurance_Type'])\n",
    "test['Is_Spouse']=le.fit_transform(test['Is_Spouse'])"
   ]
  },
  {
   "cell_type": "code",
   "execution_count": 32,
   "metadata": {},
   "outputs": [
    {
     "data": {
      "text/html": [
       "<div>\n",
       "<style scoped>\n",
       "    .dataframe tbody tr th:only-of-type {\n",
       "        vertical-align: middle;\n",
       "    }\n",
       "\n",
       "    .dataframe tbody tr th {\n",
       "        vertical-align: top;\n",
       "    }\n",
       "\n",
       "    .dataframe thead th {\n",
       "        text-align: right;\n",
       "    }\n",
       "</style>\n",
       "<table border=\"1\" class=\"dataframe\">\n",
       "  <thead>\n",
       "    <tr style=\"text-align: right;\">\n",
       "      <th></th>\n",
       "      <th>ID</th>\n",
       "      <th>City_Code</th>\n",
       "      <th>Region_Code</th>\n",
       "      <th>Accomodation_Type</th>\n",
       "      <th>Reco_Insurance_Type</th>\n",
       "      <th>Upper_Age</th>\n",
       "      <th>Lower_Age</th>\n",
       "      <th>Is_Spouse</th>\n",
       "      <th>Health Indicator</th>\n",
       "      <th>Holding_Policy_Duration</th>\n",
       "      <th>Holding_Policy_Type</th>\n",
       "      <th>Reco_Policy_Cat</th>\n",
       "      <th>Reco_Policy_Premium</th>\n",
       "    </tr>\n",
       "  </thead>\n",
       "  <tbody>\n",
       "    <tr>\n",
       "      <th>0</th>\n",
       "      <td>50883</td>\n",
       "      <td>0</td>\n",
       "      <td>156</td>\n",
       "      <td>0</td>\n",
       "      <td>0</td>\n",
       "      <td>30</td>\n",
       "      <td>30</td>\n",
       "      <td>0</td>\n",
       "      <td>0</td>\n",
       "      <td>6.0</td>\n",
       "      <td>3.0</td>\n",
       "      <td>5</td>\n",
       "      <td>11934.0</td>\n",
       "    </tr>\n",
       "    <tr>\n",
       "      <th>1</th>\n",
       "      <td>50884</td>\n",
       "      <td>30</td>\n",
       "      <td>7</td>\n",
       "      <td>0</td>\n",
       "      <td>1</td>\n",
       "      <td>69</td>\n",
       "      <td>68</td>\n",
       "      <td>1</td>\n",
       "      <td>0</td>\n",
       "      <td>3.0</td>\n",
       "      <td>3.0</td>\n",
       "      <td>18</td>\n",
       "      <td>32204.8</td>\n",
       "    </tr>\n",
       "    <tr>\n",
       "      <th>2</th>\n",
       "      <td>50885</td>\n",
       "      <td>0</td>\n",
       "      <td>564</td>\n",
       "      <td>1</td>\n",
       "      <td>0</td>\n",
       "      <td>28</td>\n",
       "      <td>28</td>\n",
       "      <td>0</td>\n",
       "      <td>2</td>\n",
       "      <td>2.0</td>\n",
       "      <td>4.0</td>\n",
       "      <td>17</td>\n",
       "      <td>9240.0</td>\n",
       "    </tr>\n",
       "    <tr>\n",
       "      <th>3</th>\n",
       "      <td>50886</td>\n",
       "      <td>22</td>\n",
       "      <td>1177</td>\n",
       "      <td>1</td>\n",
       "      <td>0</td>\n",
       "      <td>23</td>\n",
       "      <td>23</td>\n",
       "      <td>0</td>\n",
       "      <td>2</td>\n",
       "      <td>3.0</td>\n",
       "      <td>3.0</td>\n",
       "      <td>18</td>\n",
       "      <td>9086.0</td>\n",
       "    </tr>\n",
       "    <tr>\n",
       "      <th>4</th>\n",
       "      <td>50887</td>\n",
       "      <td>0</td>\n",
       "      <td>951</td>\n",
       "      <td>0</td>\n",
       "      <td>0</td>\n",
       "      <td>75</td>\n",
       "      <td>75</td>\n",
       "      <td>0</td>\n",
       "      <td>2</td>\n",
       "      <td>15.0</td>\n",
       "      <td>3.0</td>\n",
       "      <td>5</td>\n",
       "      <td>22534.0</td>\n",
       "    </tr>\n",
       "  </tbody>\n",
       "</table>\n",
       "</div>"
      ],
      "text/plain": [
       "      ID  City_Code  Region_Code  Accomodation_Type  Reco_Insurance_Type  \\\n",
       "0  50883          0          156                  0                    0   \n",
       "1  50884         30            7                  0                    1   \n",
       "2  50885          0          564                  1                    0   \n",
       "3  50886         22         1177                  1                    0   \n",
       "4  50887          0          951                  0                    0   \n",
       "\n",
       "   Upper_Age  Lower_Age  Is_Spouse  Health Indicator  Holding_Policy_Duration  \\\n",
       "0         30         30          0                 0                      6.0   \n",
       "1         69         68          1                 0                      3.0   \n",
       "2         28         28          0                 2                      2.0   \n",
       "3         23         23          0                 2                      3.0   \n",
       "4         75         75          0                 2                     15.0   \n",
       "\n",
       "   Holding_Policy_Type  Reco_Policy_Cat  Reco_Policy_Premium  \n",
       "0                  3.0                5              11934.0  \n",
       "1                  3.0               18              32204.8  \n",
       "2                  4.0               17               9240.0  \n",
       "3                  3.0               18               9086.0  \n",
       "4                  3.0                5              22534.0  "
      ]
     },
     "execution_count": 32,
     "metadata": {},
     "output_type": "execute_result"
    }
   ],
   "source": [
    "test.head()"
   ]
  },
  {
   "cell_type": "markdown",
   "metadata": {},
   "source": [
    "### Dealing with Outlier"
   ]
  },
  {
   "cell_type": "code",
   "execution_count": 33,
   "metadata": {},
   "outputs": [
    {
     "name": "stdout",
     "output_type": "stream",
     "text": [
      "ID\n"
     ]
    },
    {
     "data": {
      "image/png": "[encoded data removed]",
      "text/plain": [
       "<Figure size 432x288 with 1 Axes>"
      ]
     },
     "metadata": {
      "needs_background": "light"
     },
     "output_type": "display_data"
    },
    {
     "name": "stdout",
     "output_type": "stream",
     "text": [
      "City_Code\n"
     ]
    },
    {
     "data": {
      "image/png": "[encoded data removed]",
      "text/plain": [
       "<Figure size 432x288 with 1 Axes>"
      ]
     },
     "metadata": {
      "needs_background": "light"
     },
     "output_type": "display_data"
    },
    {
     "name": "stdout",
     "output_type": "stream",
     "text": [
      "Region_Code\n"
     ]
    },
    {
     "data": {
      "image/png": "[encoded data removed]",
      "text/plain": [
       "<Figure size 432x288 with 1 Axes>"
      ]
     },
     "metadata": {
      "needs_background": "light"
     },
     "output_type": "display_data"
    },
    {
     "name": "stdout",
     "output_type": "stream",
     "text": [
      "Accomodation_Type\n"
     ]
    },
    {
     "data": {
      "image/png": "[encoded data removed]",
      "text/plain": [
       "<Figure size 432x288 with 1 Axes>"
      ]
     },
     "metadata": {
      "needs_background": "light"
     },
     "output_type": "display_data"
    },
    {
     "name": "stdout",
     "output_type": "stream",
     "text": [
      "Reco_Insurance_Type\n"
     ]
    },
    {
     "data": {
      "image/png": "[encoded data removed]",
      "text/plain": [
       "<Figure size 432x288 with 1 Axes>"
      ]
     },
     "metadata": {
      "needs_background": "light"
     },
     "output_type": "display_data"
    },
    {
     "name": "stdout",
     "output_type": "stream",
     "text": [
      "Upper_Age\n"
     ]
    },
    {
     "data": {
      "image/png": "[encoded data removed]",
      "text/plain": [
       "<Figure size 432x288 with 1 Axes>"
      ]
     },
     "metadata": {
      "needs_background": "light"
     },
     "output_type": "display_data"
    },
    {
     "name": "stdout",
     "output_type": "stream",
     "text": [
      "Lower_Age\n"
     ]
    },
    {
     "data": {
      "image/png": "[encoded data removed]",
      "text/plain": [
       "<Figure size 432x288 with 1 Axes>"
      ]
     },
     "metadata": {
      "needs_background": "light"
     },
     "output_type": "display_data"
    },
    {
     "name": "stdout",
     "output_type": "stream",
     "text": [
      "Is_Spouse\n"
     ]
    },
    {
     "data": {
      "image/png": "[encoded data removed]",
      "text/plain": [
       "<Figure size 432x288 with 1 Axes>"
      ]
     },
     "metadata": {
      "needs_background": "light"
     },
     "output_type": "display_data"
    },
    {
     "name": "stdout",
     "output_type": "stream",
     "text": [
      "Health Indicator\n"
     ]
    },
    {
     "data": {
      "image/png": "[encoded data removed]",
      "text/plain": [
       "<Figure size 432x288 with 1 Axes>"
      ]
     },
     "metadata": {
      "needs_background": "light"
     },
     "output_type": "display_data"
    },
    {
     "name": "stdout",
     "output_type": "stream",
     "text": [
      "Holding_Policy_Duration\n"
     ]
    },
    {
     "data": {
      "image/png": "[encoded data removed]",
      "text/plain": [
       "<Figure size 432x288 with 1 Axes>"
      ]
     },
     "metadata": {
      "needs_background": "light"
     },
     "output_type": "display_data"
    },
    {
     "name": "stdout",
     "output_type": "stream",
     "text": [
      "Holding_Policy_Type\n"
     ]
    },
    {
     "data": {
      "image/png": "[encoded data removed]",
      "text/plain": [
       "<Figure size 432x288 with 1 Axes>"
      ]
     },
     "metadata": {
      "needs_background": "light"
     },
     "output_type": "display_data"
    },
    {
     "name": "stdout",
     "output_type": "stream",
     "text": [
      "Reco_Policy_Cat\n"
     ]
    },
    {
     "data": {
      "image/png": "[encoded data removed]",
      "text/plain": [
       "<Figure size 432x288 with 1 Axes>"
      ]
     },
     "metadata": {
      "needs_background": "light"
     },
     "output_type": "display_data"
    }
   ],
   "source": [
    "for col in test.iloc[:,:-1].columns:\n",
    "    print(col)\n",
    "    sns.boxplot(x=test[col],data=test)\n",
    "    plt.show()"
   ]
  },
  {
   "cell_type": "code",
   "execution_count": 34,
   "metadata": {},
   "outputs": [
    {
     "name": "stdout",
     "output_type": "stream",
     "text": [
      "ID\n"
     ]
    },
    {
     "data": {
      "image/png": "[encoded data removed]",
      "text/plain": [
       "<Figure size 432x288 with 1 Axes>"
      ]
     },
     "metadata": {
      "needs_background": "light"
     },
     "output_type": "display_data"
    },
    {
     "name": "stdout",
     "output_type": "stream",
     "text": [
      "City_Code\n"
     ]
    },
    {
     "data": {
      "image/png": "[encoded data removed]",
      "text/plain": [
       "<Figure size 432x288 with 1 Axes>"
      ]
     },
     "metadata": {
      "needs_background": "light"
     },
     "output_type": "display_data"
    },
    {
     "name": "stdout",
     "output_type": "stream",
     "text": [
      "Region_Code\n"
     ]
    },
    {
     "data": {
      "image/png": "[encoded data removed]",
      "text/plain": [
       "<Figure size 432x288 with 1 Axes>"
      ]
     },
     "metadata": {
      "needs_background": "light"
     },
     "output_type": "display_data"
    },
    {
     "name": "stdout",
     "output_type": "stream",
     "text": [
      "Accomodation_Type\n"
     ]
    },
    {
     "data": {
      "image/png": "[encoded data removed]",
      "text/plain": [
       "<Figure size 432x288 with 1 Axes>"
      ]
     },
     "metadata": {
      "needs_background": "light"
     },
     "output_type": "display_data"
    },
    {
     "name": "stdout",
     "output_type": "stream",
     "text": [
      "Reco_Insurance_Type\n"
     ]
    },
    {
     "data": {
      "image/png": "[encoded data removed]",
      "text/plain": [
       "<Figure size 432x288 with 1 Axes>"
      ]
     },
     "metadata": {
      "needs_background": "light"
     },
     "output_type": "display_data"
    },
    {
     "name": "stdout",
     "output_type": "stream",
     "text": [
      "Upper_Age\n"
     ]
    },
    {
     "data": {
      "image/png": "[encoded data removed]",
      "text/plain": [
       "<Figure size 432x288 with 1 Axes>"
      ]
     },
     "metadata": {
      "needs_background": "light"
     },
     "output_type": "display_data"
    },
    {
     "name": "stdout",
     "output_type": "stream",
     "text": [
      "Lower_Age\n"
     ]
    },
    {
     "data": {
      "image/png": "[encoded data removed]",
      "text/plain": [
       "<Figure size 432x288 with 1 Axes>"
      ]
     },
     "metadata": {
      "needs_background": "light"
     },
     "output_type": "display_data"
    },
    {
     "name": "stdout",
     "output_type": "stream",
     "text": [
      "Is_Spouse\n"
     ]
    },
    {
     "data": {
      "image/png": "[encoded data removed]",
      "text/plain": [
       "<Figure size 432x288 with 1 Axes>"
      ]
     },
     "metadata": {
      "needs_background": "light"
     },
     "output_type": "display_data"
    },
    {
     "name": "stdout",
     "output_type": "stream",
     "text": [
      "Health Indicator\n"
     ]
    },
    {
     "data": {
      "image/png": "[encoded data removed]",
      "text/plain": [
       "<Figure size 432x288 with 1 Axes>"
      ]
     },
     "metadata": {
      "needs_background": "light"
     },
     "output_type": "display_data"
    },
    {
     "name": "stdout",
     "output_type": "stream",
     "text": [
      "Holding_Policy_Duration\n"
     ]
    },
    {
     "data": {
      "image/png": "[encoded data removed]",
      "text/plain": [
       "<Figure size 432x288 with 1 Axes>"
      ]
     },
     "metadata": {
      "needs_background": "light"
     },
     "output_type": "display_data"
    },
    {
     "name": "stdout",
     "output_type": "stream",
     "text": [
      "Holding_Policy_Type\n"
     ]
    },
    {
     "data": {
      "image/png": "[encoded data removed]",
      "text/plain": [
       "<Figure size 432x288 with 1 Axes>"
      ]
     },
     "metadata": {
      "needs_background": "light"
     },
     "output_type": "display_data"
    },
    {
     "name": "stdout",
     "output_type": "stream",
     "text": [
      "Reco_Policy_Cat\n"
     ]
    },
    {
     "data": {
      "image/png": "[encoded data removed]",
      "text/plain": [
       "<Figure size 432x288 with 1 Axes>"
      ]
     },
     "metadata": {
      "needs_background": "light"
     },
     "output_type": "display_data"
    }
   ],
   "source": [
    "def boxoutlier(var):\n",
    "    for x in var.iloc[:,:-1].columns :        \n",
    "        Q1=var[x].quantile(0.25)\n",
    "        Q3=var[x].quantile(0.75)\n",
    "        IQR=Q3-Q1\n",
    "        Lower = Q1-(1.5*IQR)\n",
    "        Upper = Q3+(1.5*IQR)\n",
    "        var.loc[:,x]=np.where(var[x].values > Upper,Upper,var[x].values)\n",
    "        var.loc[:,x]=np.where(var[x].values < Lower,Lower,var[x].values)\n",
    "        \n",
    "    return var\n",
    "df2=boxoutlier(test)\n",
    "\n",
    "for col in df2.iloc[:,:-1].columns:\n",
    "    print(col)\n",
    "    sns.boxplot(x=df2[col],data=df2)\n",
    "    plt.show()"
   ]
  },
  {
   "cell_type": "markdown",
   "metadata": {},
   "source": [
    "# Model building "
   ]
  },
  {
   "cell_type": "code",
   "execution_count": 35,
   "metadata": {},
   "outputs": [],
   "source": [
    "df1 = df1.drop(['ID'],axis=1)"
   ]
  },
  {
   "cell_type": "code",
   "execution_count": 36,
   "metadata": {},
   "outputs": [
    {
     "data": {
      "text/html": [
       "<div>\n",
       "<style scoped>\n",
       "    .dataframe tbody tr th:only-of-type {\n",
       "        vertical-align: middle;\n",
       "    }\n",
       "\n",
       "    .dataframe tbody tr th {\n",
       "        vertical-align: top;\n",
       "    }\n",
       "\n",
       "    .dataframe thead th {\n",
       "        text-align: right;\n",
       "    }\n",
       "</style>\n",
       "<table border=\"1\" class=\"dataframe\">\n",
       "  <thead>\n",
       "    <tr style=\"text-align: right;\">\n",
       "      <th></th>\n",
       "      <th>City_Code</th>\n",
       "      <th>Region_Code</th>\n",
       "      <th>Accomodation_Type</th>\n",
       "      <th>Reco_Insurance_Type</th>\n",
       "      <th>Upper_Age</th>\n",
       "      <th>Lower_Age</th>\n",
       "      <th>Is_Spouse</th>\n",
       "      <th>Health Indicator</th>\n",
       "      <th>Holding_Policy_Duration</th>\n",
       "      <th>Holding_Policy_Type</th>\n",
       "      <th>Reco_Policy_Cat</th>\n",
       "      <th>Reco_Policy_Premium</th>\n",
       "      <th>Response</th>\n",
       "    </tr>\n",
       "  </thead>\n",
       "  <tbody>\n",
       "    <tr>\n",
       "      <th>0</th>\n",
       "      <td>22.0</td>\n",
       "      <td>3213.0</td>\n",
       "      <td>1.0</td>\n",
       "      <td>0.0</td>\n",
       "      <td>36.0</td>\n",
       "      <td>36.0</td>\n",
       "      <td>0.0</td>\n",
       "      <td>0.0</td>\n",
       "      <td>13.5</td>\n",
       "      <td>3.0</td>\n",
       "      <td>22.0</td>\n",
       "      <td>11628.0</td>\n",
       "      <td>0</td>\n",
       "    </tr>\n",
       "    <tr>\n",
       "      <th>1</th>\n",
       "      <td>31.0</td>\n",
       "      <td>1117.0</td>\n",
       "      <td>0.0</td>\n",
       "      <td>0.0</td>\n",
       "      <td>75.0</td>\n",
       "      <td>22.0</td>\n",
       "      <td>0.0</td>\n",
       "      <td>1.0</td>\n",
       "      <td>1.0</td>\n",
       "      <td>3.0</td>\n",
       "      <td>22.0</td>\n",
       "      <td>30510.0</td>\n",
       "      <td>0</td>\n",
       "    </tr>\n",
       "    <tr>\n",
       "      <th>2</th>\n",
       "      <td>31.0</td>\n",
       "      <td>3732.0</td>\n",
       "      <td>0.0</td>\n",
       "      <td>0.0</td>\n",
       "      <td>32.0</td>\n",
       "      <td>32.0</td>\n",
       "      <td>0.0</td>\n",
       "      <td>0.0</td>\n",
       "      <td>1.0</td>\n",
       "      <td>1.0</td>\n",
       "      <td>19.0</td>\n",
       "      <td>7450.0</td>\n",
       "      <td>1</td>\n",
       "    </tr>\n",
       "    <tr>\n",
       "      <th>3</th>\n",
       "      <td>16.0</td>\n",
       "      <td>4378.0</td>\n",
       "      <td>0.0</td>\n",
       "      <td>0.0</td>\n",
       "      <td>52.0</td>\n",
       "      <td>48.0</td>\n",
       "      <td>0.0</td>\n",
       "      <td>0.0</td>\n",
       "      <td>13.5</td>\n",
       "      <td>3.0</td>\n",
       "      <td>19.0</td>\n",
       "      <td>17780.0</td>\n",
       "      <td>0</td>\n",
       "    </tr>\n",
       "    <tr>\n",
       "      <th>4</th>\n",
       "      <td>34.0</td>\n",
       "      <td>2190.0</td>\n",
       "      <td>1.0</td>\n",
       "      <td>0.0</td>\n",
       "      <td>44.0</td>\n",
       "      <td>44.0</td>\n",
       "      <td>0.0</td>\n",
       "      <td>1.0</td>\n",
       "      <td>3.0</td>\n",
       "      <td>1.0</td>\n",
       "      <td>16.0</td>\n",
       "      <td>10404.0</td>\n",
       "      <td>0</td>\n",
       "    </tr>\n",
       "  </tbody>\n",
       "</table>\n",
       "</div>"
      ],
      "text/plain": [
       "   City_Code  Region_Code  Accomodation_Type  Reco_Insurance_Type  Upper_Age  \\\n",
       "0       22.0       3213.0                1.0                  0.0       36.0   \n",
       "1       31.0       1117.0                0.0                  0.0       75.0   \n",
       "2       31.0       3732.0                0.0                  0.0       32.0   \n",
       "3       16.0       4378.0                0.0                  0.0       52.0   \n",
       "4       34.0       2190.0                1.0                  0.0       44.0   \n",
       "\n",
       "   Lower_Age  Is_Spouse  Health Indicator  Holding_Policy_Duration  \\\n",
       "0       36.0        0.0               0.0                     13.5   \n",
       "1       22.0        0.0               1.0                      1.0   \n",
       "2       32.0        0.0               0.0                      1.0   \n",
       "3       48.0        0.0               0.0                     13.5   \n",
       "4       44.0        0.0               1.0                      3.0   \n",
       "\n",
       "   Holding_Policy_Type  Reco_Policy_Cat  Reco_Policy_Premium  Response  \n",
       "0                  3.0             22.0              11628.0         0  \n",
       "1                  3.0             22.0              30510.0         0  \n",
       "2                  1.0             19.0               7450.0         1  \n",
       "3                  3.0             19.0              17780.0         0  \n",
       "4                  1.0             16.0              10404.0         0  "
      ]
     },
     "execution_count": 36,
     "metadata": {},
     "output_type": "execute_result"
    }
   ],
   "source": [
    "df1.head()"
   ]
  },
  {
   "cell_type": "markdown",
   "metadata": {},
   "source": [
    "### Splitting dataset"
   ]
  },
  {
   "cell_type": "code",
   "execution_count": 37,
   "metadata": {},
   "outputs": [],
   "source": [
    "X = df1.drop(['Response'],axis=1)\n",
    "y=df1['Response']"
   ]
  },
  {
   "cell_type": "code",
   "execution_count": 39,
   "metadata": {},
   "outputs": [],
   "source": [
    "X_train,X_test,y_train,y_test=train_test_split(X,y,test_size=0.2,random_state=4 )"
   ]
  },
  {
   "cell_type": "markdown",
   "metadata": {},
   "source": [
    "### Feature scaling"
   ]
  },
  {
   "cell_type": "code",
   "execution_count": 40,
   "metadata": {},
   "outputs": [],
   "source": [
    "sc = StandardScaler()\n",
    "X_train = sc.fit_transform(X_train)\n",
    "X_test = sc.transform(X_test)"
   ]
  },
  {
   "cell_type": "markdown",
   "metadata": {},
   "source": [
    "### Decision Tree Model"
   ]
  },
  {
   "cell_type": "code",
   "execution_count": 41,
   "metadata": {},
   "outputs": [
    {
     "name": "stdout",
     "output_type": "stream",
     "text": [
      "0.6743637614228162 \n",
      "\n",
      "              precision    recall  f1-score   support\n",
      "\n",
      "           0       0.80      0.78      0.79      7819\n",
      "           1       0.31      0.34      0.32      2358\n",
      "\n",
      "    accuracy                           0.67     10177\n",
      "   macro avg       0.55      0.56      0.55     10177\n",
      "weighted avg       0.68      0.67      0.68     10177\n",
      "\n",
      "0.5534910040462342\n"
     ]
    }
   ],
   "source": [
    "d_tree = DecisionTreeClassifier()\n",
    "d_tree.fit(X_train,y_train)\n",
    "predict_test = d_tree.predict(X_test)\n",
    "print(metrics.accuracy_score(predict_test,y_test),'\\n')\n",
    "print(metrics.classification_report(y_test, predict_test))\n",
    "print(roc_auc_score(predict_test,y_test))"
   ]
  },
  {
   "cell_type": "code",
   "execution_count": 42,
   "metadata": {},
   "outputs": [
    {
     "name": "stdout",
     "output_type": "stream",
     "text": [
      "[[6070 1749]\n",
      " [1565  793]]\n"
     ]
    },
    {
     "data": {
      "text/plain": [
       "<AxesSubplot:>"
      ]
     },
     "execution_count": 42,
     "metadata": {},
     "output_type": "execute_result"
    },
    {
     "data": {
      "image/png": "[encoded data removed]",
      "text/plain": [
       "<Figure size 432x288 with 2 Axes>"
      ]
     },
     "metadata": {
      "needs_background": "light"
     },
     "output_type": "display_data"
    }
   ],
   "source": [
    "cm=confusion_matrix(y_test,predict_test)\n",
    "print(cm)\n",
    "sns.heatmap(cm,annot=True,cmap='BuPu')"
   ]
  },
  {
   "cell_type": "markdown",
   "metadata": {},
   "source": [
    "### Random Forest Model"
   ]
  },
  {
   "cell_type": "code",
   "execution_count": 43,
   "metadata": {},
   "outputs": [
    {
     "name": "stdout",
     "output_type": "stream",
     "text": [
      "0.7635845534047362 \n",
      "\n",
      "              precision    recall  f1-score   support\n",
      "\n",
      "           0       0.77      0.98      0.86      7819\n",
      "           1       0.38      0.03      0.06      2358\n",
      "\n",
      "    accuracy                           0.76     10177\n",
      "   macro avg       0.58      0.51      0.46     10177\n",
      "weighted avg       0.68      0.76      0.68     10177\n",
      "\n",
      "0.5768678372782985\n"
     ]
    }
   ],
   "source": [
    "r_forest = RandomForestClassifier()\n",
    "r_forest.fit(X_train,y_train)\n",
    "predict_test = r_forest.predict(X_test)\n",
    "print(metrics.accuracy_score(predict_test,y_test),'\\n')\n",
    "print(metrics.classification_report(y_test, predict_test))\n",
    "print(roc_auc_score(predict_test,y_test))"
   ]
  },
  {
   "cell_type": "code",
   "execution_count": 44,
   "metadata": {},
   "outputs": [
    {
     "name": "stdout",
     "output_type": "stream",
     "text": [
      "[[7693  126]\n",
      " [2280   78]]\n"
     ]
    },
    {
     "data": {
      "text/plain": [
       "<AxesSubplot:>"
      ]
     },
     "execution_count": 44,
     "metadata": {},
     "output_type": "execute_result"
    },
    {
     "data": {
      "image/png": "[encoded data removed]",
      "text/plain": [
       "<Figure size 432x288 with 2 Axes>"
      ]
     },
     "metadata": {
      "needs_background": "light"
     },
     "output_type": "display_data"
    }
   ],
   "source": [
    "cm=confusion_matrix(y_test,predict_test)\n",
    "print(cm)\n",
    "sns.heatmap(cm,annot=True,cmap='BuPu')"
   ]
  },
  {
   "cell_type": "markdown",
   "metadata": {},
   "source": [
    "### XGBoost Classifier Model"
   ]
  },
  {
   "cell_type": "code",
   "execution_count": 45,
   "metadata": {},
   "outputs": [
    {
     "name": "stdout",
     "output_type": "stream",
     "text": [
      "[18:23:58] WARNING: C:/Users/Administrator/workspace/xgboost-win64_release_1.3.0/src/learner.cc:1061: Starting in XGBoost 1.3.0, the default evaluation metric used with the objective 'binary:logistic' was changed from 'error' to 'logloss'. Explicitly set eval_metric if you'd like to restore the old behavior.\n",
      "0.7650584651665521 \n",
      "\n",
      "              precision    recall  f1-score   support\n",
      "\n",
      "           0       0.78      0.97      0.86      7819\n",
      "           1       0.46      0.08      0.13      2358\n",
      "\n",
      "    accuracy                           0.77     10177\n",
      "   macro avg       0.62      0.52      0.50     10177\n",
      "weighted avg       0.70      0.77      0.69     10177\n",
      "\n",
      "0.617567739915522\n"
     ]
    }
   ],
   "source": [
    "xgb = XGBClassifier()\n",
    "xgb.fit(X_train,y_train)\n",
    "predict_test = xgb.predict(X_test)\n",
    "print(metrics.accuracy_score(predict_test,y_test),'\\n')\n",
    "print(metrics.classification_report(y_test, predict_test))\n",
    "print(roc_auc_score(predict_test,y_test))"
   ]
  },
  {
   "cell_type": "code",
   "execution_count": 46,
   "metadata": {},
   "outputs": [
    {
     "name": "stdout",
     "output_type": "stream",
     "text": [
      "[[7607  212]\n",
      " [2179  179]]\n"
     ]
    },
    {
     "data": {
      "text/plain": [
       "<AxesSubplot:>"
      ]
     },
     "execution_count": 46,
     "metadata": {},
     "output_type": "execute_result"
    },
    {
     "data": {
      "image/png": "[encoded data removed]",
      "text/plain": [
       "<Figure size 432x288 with 2 Axes>"
      ]
     },
     "metadata": {
      "needs_background": "light"
     },
     "output_type": "display_data"
    }
   ],
   "source": [
    "cm=confusion_matrix(y_test,predict_test)\n",
    "print(cm)\n",
    "sns.heatmap(cm,annot=True,cmap='BuPu')"
   ]
  },
  {
   "cell_type": "markdown",
   "metadata": {},
   "source": [
    "### Catboost Model "
   ]
  },
  {
   "cell_type": "code",
   "execution_count": 47,
   "metadata": {},
   "outputs": [
    {
     "name": "stdout",
     "output_type": "stream",
     "text": [
      "Learning rate set to 0.050148\n",
      "0:\tlearn: 0.6776474\ttotal: 177ms\tremaining: 2m 57s\n",
      "1:\tlearn: 0.6631574\ttotal: 190ms\tremaining: 1m 34s\n",
      "2:\tlearn: 0.6502585\ttotal: 204ms\tremaining: 1m 7s\n",
      "3:\tlearn: 0.6390303\ttotal: 216ms\tremaining: 53.9s\n",
      "4:\tlearn: 0.6281703\ttotal: 228ms\tremaining: 45.3s\n",
      "5:\tlearn: 0.6187065\ttotal: 240ms\tremaining: 39.8s\n",
      "6:\tlearn: 0.6105609\ttotal: 254ms\tremaining: 36s\n",
      "7:\tlearn: 0.6040658\ttotal: 263ms\tremaining: 32.6s\n",
      "8:\tlearn: 0.5973719\ttotal: 275ms\tremaining: 30.3s\n",
      "9:\tlearn: 0.5921016\ttotal: 287ms\tremaining: 28.4s\n",
      "10:\tlearn: 0.5869188\ttotal: 302ms\tremaining: 27.2s\n",
      "11:\tlearn: 0.5822636\ttotal: 315ms\tremaining: 26s\n",
      "12:\tlearn: 0.5766704\ttotal: 329ms\tremaining: 25s\n",
      "13:\tlearn: 0.5727974\ttotal: 341ms\tremaining: 24s\n",
      "14:\tlearn: 0.5698460\ttotal: 350ms\tremaining: 23s\n",
      "15:\tlearn: 0.5667073\ttotal: 366ms\tremaining: 22.5s\n",
      "16:\tlearn: 0.5640476\ttotal: 385ms\tremaining: 22.2s\n",
      "17:\tlearn: 0.5613955\ttotal: 407ms\tremaining: 22.2s\n",
      "18:\tlearn: 0.5592517\ttotal: 420ms\tremaining: 21.7s\n",
      "19:\tlearn: 0.5563336\ttotal: 434ms\tremaining: 21.3s\n",
      "20:\tlearn: 0.5539767\ttotal: 448ms\tremaining: 20.9s\n",
      "21:\tlearn: 0.5523158\ttotal: 462ms\tremaining: 20.5s\n",
      "22:\tlearn: 0.5510153\ttotal: 476ms\tremaining: 20.2s\n",
      "23:\tlearn: 0.5497470\ttotal: 488ms\tremaining: 19.8s\n",
      "24:\tlearn: 0.5486953\ttotal: 503ms\tremaining: 19.6s\n",
      "25:\tlearn: 0.5476099\ttotal: 513ms\tremaining: 19.2s\n",
      "26:\tlearn: 0.5465849\ttotal: 526ms\tremaining: 19s\n",
      "27:\tlearn: 0.5456570\ttotal: 541ms\tremaining: 18.8s\n",
      "28:\tlearn: 0.5447037\ttotal: 558ms\tremaining: 18.7s\n",
      "29:\tlearn: 0.5436184\ttotal: 580ms\tremaining: 18.7s\n",
      "30:\tlearn: 0.5425971\ttotal: 599ms\tremaining: 18.7s\n",
      "31:\tlearn: 0.5420189\ttotal: 614ms\tremaining: 18.6s\n",
      "32:\tlearn: 0.5414736\ttotal: 629ms\tremaining: 18.4s\n",
      "33:\tlearn: 0.5408415\ttotal: 643ms\tremaining: 18.3s\n",
      "34:\tlearn: 0.5401260\ttotal: 656ms\tremaining: 18.1s\n",
      "35:\tlearn: 0.5396721\ttotal: 670ms\tremaining: 17.9s\n",
      "36:\tlearn: 0.5391221\ttotal: 685ms\tremaining: 17.8s\n",
      "37:\tlearn: 0.5384713\ttotal: 695ms\tremaining: 17.6s\n",
      "38:\tlearn: 0.5379994\ttotal: 708ms\tremaining: 17.4s\n",
      "39:\tlearn: 0.5371994\ttotal: 721ms\tremaining: 17.3s\n",
      "40:\tlearn: 0.5366897\ttotal: 733ms\tremaining: 17.1s\n",
      "41:\tlearn: 0.5362234\ttotal: 750ms\tremaining: 17.1s\n",
      "42:\tlearn: 0.5358054\ttotal: 765ms\tremaining: 17s\n",
      "43:\tlearn: 0.5352578\ttotal: 779ms\tremaining: 16.9s\n",
      "44:\tlearn: 0.5347633\ttotal: 791ms\tremaining: 16.8s\n",
      "45:\tlearn: 0.5343382\ttotal: 804ms\tremaining: 16.7s\n",
      "46:\tlearn: 0.5336768\ttotal: 817ms\tremaining: 16.6s\n",
      "47:\tlearn: 0.5335223\ttotal: 831ms\tremaining: 16.5s\n",
      "48:\tlearn: 0.5329350\ttotal: 845ms\tremaining: 16.4s\n",
      "49:\tlearn: 0.5326913\ttotal: 860ms\tremaining: 16.3s\n",
      "50:\tlearn: 0.5325775\ttotal: 873ms\tremaining: 16.2s\n",
      "51:\tlearn: 0.5322007\ttotal: 885ms\tremaining: 16.1s\n",
      "52:\tlearn: 0.5319485\ttotal: 899ms\tremaining: 16.1s\n",
      "53:\tlearn: 0.5317356\ttotal: 914ms\tremaining: 16s\n",
      "54:\tlearn: 0.5315984\ttotal: 929ms\tremaining: 16s\n",
      "55:\tlearn: 0.5314619\ttotal: 945ms\tremaining: 15.9s\n",
      "56:\tlearn: 0.5313324\ttotal: 958ms\tremaining: 15.9s\n",
      "57:\tlearn: 0.5309379\ttotal: 971ms\tremaining: 15.8s\n",
      "58:\tlearn: 0.5307797\ttotal: 985ms\tremaining: 15.7s\n",
      "59:\tlearn: 0.5304437\ttotal: 998ms\tremaining: 15.6s\n",
      "60:\tlearn: 0.5301794\ttotal: 1.01s\tremaining: 15.5s\n",
      "61:\tlearn: 0.5300355\ttotal: 1.02s\tremaining: 15.5s\n",
      "62:\tlearn: 0.5297943\ttotal: 1.04s\tremaining: 15.5s\n",
      "63:\tlearn: 0.5297806\ttotal: 1.05s\tremaining: 15.4s\n",
      "64:\tlearn: 0.5296622\ttotal: 1.06s\tremaining: 15.3s\n",
      "65:\tlearn: 0.5294415\ttotal: 1.08s\tremaining: 15.3s\n",
      "66:\tlearn: 0.5292896\ttotal: 1.09s\tremaining: 15.3s\n",
      "67:\tlearn: 0.5290549\ttotal: 1.11s\tremaining: 15.2s\n",
      "68:\tlearn: 0.5288282\ttotal: 1.13s\tremaining: 15.2s\n",
      "69:\tlearn: 0.5286060\ttotal: 1.14s\tremaining: 15.2s\n",
      "70:\tlearn: 0.5284441\ttotal: 1.16s\tremaining: 15.2s\n",
      "71:\tlearn: 0.5283209\ttotal: 1.17s\tremaining: 15.1s\n",
      "72:\tlearn: 0.5280962\ttotal: 1.19s\tremaining: 15.1s\n",
      "73:\tlearn: 0.5278770\ttotal: 1.21s\tremaining: 15.1s\n",
      "74:\tlearn: 0.5276851\ttotal: 1.22s\tremaining: 15.1s\n",
      "75:\tlearn: 0.5274685\ttotal: 1.24s\tremaining: 15s\n",
      "76:\tlearn: 0.5272197\ttotal: 1.25s\tremaining: 15s\n",
      "77:\tlearn: 0.5270250\ttotal: 1.27s\tremaining: 15.1s\n",
      "78:\tlearn: 0.5268622\ttotal: 1.29s\tremaining: 15.1s\n",
      "79:\tlearn: 0.5268002\ttotal: 1.31s\tremaining: 15.1s\n",
      "80:\tlearn: 0.5267539\ttotal: 1.32s\tremaining: 15s\n",
      "81:\tlearn: 0.5265756\ttotal: 1.34s\tremaining: 15s\n",
      "82:\tlearn: 0.5264506\ttotal: 1.35s\tremaining: 15s\n",
      "83:\tlearn: 0.5263023\ttotal: 1.37s\tremaining: 14.9s\n",
      "84:\tlearn: 0.5261530\ttotal: 1.38s\tremaining: 14.9s\n",
      "85:\tlearn: 0.5259368\ttotal: 1.4s\tremaining: 14.9s\n",
      "86:\tlearn: 0.5257533\ttotal: 1.42s\tremaining: 14.9s\n",
      "87:\tlearn: 0.5256582\ttotal: 1.43s\tremaining: 14.9s\n",
      "88:\tlearn: 0.5255652\ttotal: 1.45s\tremaining: 14.9s\n",
      "89:\tlearn: 0.5254881\ttotal: 1.47s\tremaining: 14.9s\n",
      "90:\tlearn: 0.5252802\ttotal: 1.49s\tremaining: 14.9s\n",
      "91:\tlearn: 0.5249993\ttotal: 1.51s\tremaining: 14.9s\n",
      "92:\tlearn: 0.5247814\ttotal: 1.52s\tremaining: 14.9s\n",
      "93:\tlearn: 0.5245440\ttotal: 1.54s\tremaining: 14.8s\n",
      "94:\tlearn: 0.5244651\ttotal: 1.55s\tremaining: 14.8s\n",
      "95:\tlearn: 0.5243558\ttotal: 1.57s\tremaining: 14.8s\n",
      "96:\tlearn: 0.5242822\ttotal: 1.58s\tremaining: 14.7s\n",
      "97:\tlearn: 0.5241248\ttotal: 1.61s\tremaining: 14.8s\n",
      "98:\tlearn: 0.5239769\ttotal: 1.63s\tremaining: 14.9s\n",
      "99:\tlearn: 0.5239320\ttotal: 1.65s\tremaining: 14.9s\n",
      "100:\tlearn: 0.5237885\ttotal: 1.67s\tremaining: 14.9s\n",
      "101:\tlearn: 0.5236530\ttotal: 1.69s\tremaining: 14.9s\n",
      "102:\tlearn: 0.5234809\ttotal: 1.71s\tremaining: 14.9s\n",
      "103:\tlearn: 0.5232193\ttotal: 1.72s\tremaining: 14.9s\n",
      "104:\tlearn: 0.5231071\ttotal: 1.74s\tremaining: 14.8s\n",
      "105:\tlearn: 0.5228557\ttotal: 1.75s\tremaining: 14.8s\n",
      "106:\tlearn: 0.5226796\ttotal: 1.77s\tremaining: 14.8s\n",
      "107:\tlearn: 0.5226260\ttotal: 1.78s\tremaining: 14.7s\n",
      "108:\tlearn: 0.5225622\ttotal: 1.8s\tremaining: 14.7s\n",
      "109:\tlearn: 0.5224460\ttotal: 1.81s\tremaining: 14.7s\n",
      "110:\tlearn: 0.5223577\ttotal: 1.83s\tremaining: 14.7s\n",
      "111:\tlearn: 0.5221702\ttotal: 1.85s\tremaining: 14.7s\n",
      "112:\tlearn: 0.5220716\ttotal: 1.86s\tremaining: 14.6s\n",
      "113:\tlearn: 0.5219333\ttotal: 1.88s\tremaining: 14.6s\n",
      "114:\tlearn: 0.5218863\ttotal: 1.9s\tremaining: 14.6s\n",
      "115:\tlearn: 0.5217941\ttotal: 1.91s\tremaining: 14.6s\n",
      "116:\tlearn: 0.5217521\ttotal: 1.92s\tremaining: 14.5s\n",
      "117:\tlearn: 0.5216075\ttotal: 1.94s\tremaining: 14.5s\n",
      "118:\tlearn: 0.5213895\ttotal: 1.95s\tremaining: 14.5s\n",
      "119:\tlearn: 0.5212770\ttotal: 1.97s\tremaining: 14.4s\n",
      "120:\tlearn: 0.5211769\ttotal: 1.98s\tremaining: 14.4s\n",
      "121:\tlearn: 0.5210678\ttotal: 2s\tremaining: 14.4s\n",
      "122:\tlearn: 0.5209550\ttotal: 2.01s\tremaining: 14.4s\n",
      "123:\tlearn: 0.5208405\ttotal: 2.03s\tremaining: 14.3s\n",
      "124:\tlearn: 0.5206960\ttotal: 2.04s\tremaining: 14.3s\n",
      "125:\tlearn: 0.5205813\ttotal: 2.06s\tremaining: 14.3s\n",
      "126:\tlearn: 0.5204629\ttotal: 2.07s\tremaining: 14.2s\n",
      "127:\tlearn: 0.5203941\ttotal: 2.08s\tremaining: 14.2s\n",
      "128:\tlearn: 0.5202118\ttotal: 2.1s\tremaining: 14.2s\n",
      "129:\tlearn: 0.5200884\ttotal: 2.11s\tremaining: 14.1s\n",
      "130:\tlearn: 0.5199915\ttotal: 2.13s\tremaining: 14.1s\n",
      "131:\tlearn: 0.5199132\ttotal: 2.14s\tremaining: 14.1s\n",
      "132:\tlearn: 0.5198311\ttotal: 2.15s\tremaining: 14s\n",
      "133:\tlearn: 0.5197354\ttotal: 2.17s\tremaining: 14s\n",
      "134:\tlearn: 0.5196542\ttotal: 2.18s\tremaining: 14s\n",
      "135:\tlearn: 0.5195910\ttotal: 2.2s\tremaining: 14s\n",
      "136:\tlearn: 0.5194589\ttotal: 2.21s\tremaining: 13.9s\n",
      "137:\tlearn: 0.5192769\ttotal: 2.22s\tremaining: 13.9s\n",
      "138:\tlearn: 0.5191004\ttotal: 2.24s\tremaining: 13.9s\n",
      "139:\tlearn: 0.5189024\ttotal: 2.26s\tremaining: 13.9s\n",
      "140:\tlearn: 0.5188547\ttotal: 2.28s\tremaining: 13.9s\n",
      "141:\tlearn: 0.5187742\ttotal: 2.3s\tremaining: 13.9s\n",
      "142:\tlearn: 0.5187071\ttotal: 2.31s\tremaining: 13.9s\n",
      "143:\tlearn: 0.5185551\ttotal: 2.33s\tremaining: 13.9s\n",
      "144:\tlearn: 0.5185097\ttotal: 2.35s\tremaining: 13.8s\n",
      "145:\tlearn: 0.5184215\ttotal: 2.36s\tremaining: 13.8s\n",
      "146:\tlearn: 0.5183263\ttotal: 2.39s\tremaining: 13.8s\n",
      "147:\tlearn: 0.5182232\ttotal: 2.41s\tremaining: 13.9s\n",
      "148:\tlearn: 0.5181018\ttotal: 2.42s\tremaining: 13.8s\n",
      "149:\tlearn: 0.5178710\ttotal: 2.44s\tremaining: 13.8s\n",
      "150:\tlearn: 0.5176558\ttotal: 2.46s\tremaining: 13.8s\n",
      "151:\tlearn: 0.5175491\ttotal: 2.48s\tremaining: 13.9s\n",
      "152:\tlearn: 0.5173453\ttotal: 2.5s\tremaining: 13.9s\n",
      "153:\tlearn: 0.5172424\ttotal: 2.52s\tremaining: 13.9s\n",
      "154:\tlearn: 0.5171828\ttotal: 2.54s\tremaining: 13.8s\n",
      "155:\tlearn: 0.5170972\ttotal: 2.55s\tremaining: 13.8s\n",
      "156:\tlearn: 0.5170619\ttotal: 2.57s\tremaining: 13.8s\n",
      "157:\tlearn: 0.5170100\ttotal: 2.59s\tremaining: 13.8s\n",
      "158:\tlearn: 0.5169469\ttotal: 2.61s\tremaining: 13.8s\n",
      "159:\tlearn: 0.5167789\ttotal: 2.63s\tremaining: 13.8s\n",
      "160:\tlearn: 0.5167104\ttotal: 2.64s\tremaining: 13.8s\n",
      "161:\tlearn: 0.5166523\ttotal: 2.66s\tremaining: 13.8s\n",
      "162:\tlearn: 0.5165430\ttotal: 2.73s\tremaining: 14s\n",
      "163:\tlearn: 0.5164767\ttotal: 2.74s\tremaining: 14s\n",
      "164:\tlearn: 0.5163789\ttotal: 2.76s\tremaining: 14s\n",
      "165:\tlearn: 0.5162620\ttotal: 2.78s\tremaining: 14s\n",
      "166:\tlearn: 0.5161306\ttotal: 2.8s\tremaining: 14s\n",
      "167:\tlearn: 0.5159969\ttotal: 2.82s\tremaining: 13.9s\n",
      "168:\tlearn: 0.5159003\ttotal: 2.83s\tremaining: 13.9s\n",
      "169:\tlearn: 0.5157752\ttotal: 2.84s\tremaining: 13.9s\n",
      "170:\tlearn: 0.5156546\ttotal: 2.86s\tremaining: 13.9s\n",
      "171:\tlearn: 0.5155873\ttotal: 2.88s\tremaining: 13.9s\n",
      "172:\tlearn: 0.5155058\ttotal: 2.89s\tremaining: 13.8s\n",
      "173:\tlearn: 0.5154421\ttotal: 2.91s\tremaining: 13.8s\n",
      "174:\tlearn: 0.5153785\ttotal: 2.93s\tremaining: 13.8s\n",
      "175:\tlearn: 0.5152526\ttotal: 2.95s\tremaining: 13.8s\n",
      "176:\tlearn: 0.5151883\ttotal: 2.97s\tremaining: 13.8s\n",
      "177:\tlearn: 0.5151103\ttotal: 2.99s\tremaining: 13.8s\n",
      "178:\tlearn: 0.5149982\ttotal: 3s\tremaining: 13.8s\n",
      "179:\tlearn: 0.5148780\ttotal: 3.02s\tremaining: 13.8s\n",
      "180:\tlearn: 0.5148170\ttotal: 3.04s\tremaining: 13.7s\n",
      "181:\tlearn: 0.5147521\ttotal: 3.05s\tremaining: 13.7s\n",
      "182:\tlearn: 0.5147046\ttotal: 3.07s\tremaining: 13.7s\n",
      "183:\tlearn: 0.5146281\ttotal: 3.09s\tremaining: 13.7s\n",
      "184:\tlearn: 0.5144860\ttotal: 3.1s\tremaining: 13.7s\n",
      "185:\tlearn: 0.5143930\ttotal: 3.12s\tremaining: 13.7s\n",
      "186:\tlearn: 0.5142955\ttotal: 3.14s\tremaining: 13.6s\n",
      "187:\tlearn: 0.5141293\ttotal: 3.15s\tremaining: 13.6s\n",
      "188:\tlearn: 0.5140378\ttotal: 3.17s\tremaining: 13.6s\n",
      "189:\tlearn: 0.5138801\ttotal: 3.19s\tremaining: 13.6s\n",
      "190:\tlearn: 0.5137994\ttotal: 3.21s\tremaining: 13.6s\n",
      "191:\tlearn: 0.5137325\ttotal: 3.22s\tremaining: 13.6s\n",
      "192:\tlearn: 0.5136511\ttotal: 3.24s\tremaining: 13.5s\n",
      "193:\tlearn: 0.5135284\ttotal: 3.25s\tremaining: 13.5s\n",
      "194:\tlearn: 0.5133378\ttotal: 3.27s\tremaining: 13.5s\n",
      "195:\tlearn: 0.5132303\ttotal: 3.28s\tremaining: 13.5s\n",
      "196:\tlearn: 0.5131766\ttotal: 3.3s\tremaining: 13.4s\n",
      "197:\tlearn: 0.5130833\ttotal: 3.32s\tremaining: 13.4s\n",
      "198:\tlearn: 0.5129934\ttotal: 3.33s\tremaining: 13.4s\n",
      "199:\tlearn: 0.5129289\ttotal: 3.35s\tremaining: 13.4s\n",
      "200:\tlearn: 0.5128400\ttotal: 3.37s\tremaining: 13.4s\n",
      "201:\tlearn: 0.5127386\ttotal: 3.38s\tremaining: 13.4s\n",
      "202:\tlearn: 0.5126196\ttotal: 3.4s\tremaining: 13.3s\n",
      "203:\tlearn: 0.5125309\ttotal: 3.42s\tremaining: 13.3s\n",
      "204:\tlearn: 0.5124312\ttotal: 3.43s\tremaining: 13.3s\n",
      "205:\tlearn: 0.5123395\ttotal: 3.45s\tremaining: 13.3s\n",
      "206:\tlearn: 0.5121933\ttotal: 3.46s\tremaining: 13.3s\n",
      "207:\tlearn: 0.5121051\ttotal: 3.48s\tremaining: 13.3s\n",
      "208:\tlearn: 0.5119561\ttotal: 3.5s\tremaining: 13.2s\n",
      "209:\tlearn: 0.5117611\ttotal: 3.51s\tremaining: 13.2s\n",
      "210:\tlearn: 0.5116600\ttotal: 3.53s\tremaining: 13.2s\n",
      "211:\tlearn: 0.5115883\ttotal: 3.55s\tremaining: 13.2s\n",
      "212:\tlearn: 0.5115428\ttotal: 3.57s\tremaining: 13.2s\n",
      "213:\tlearn: 0.5114383\ttotal: 3.59s\tremaining: 13.2s\n",
      "214:\tlearn: 0.5113612\ttotal: 3.6s\tremaining: 13.2s\n",
      "215:\tlearn: 0.5112765\ttotal: 3.62s\tremaining: 13.1s\n",
      "216:\tlearn: 0.5111813\ttotal: 3.63s\tremaining: 13.1s\n",
      "217:\tlearn: 0.5111228\ttotal: 3.65s\tremaining: 13.1s\n",
      "218:\tlearn: 0.5109996\ttotal: 3.67s\tremaining: 13.1s\n",
      "219:\tlearn: 0.5109112\ttotal: 3.68s\tremaining: 13.1s\n",
      "220:\tlearn: 0.5108556\ttotal: 3.7s\tremaining: 13s\n",
      "221:\tlearn: 0.5107587\ttotal: 3.71s\tremaining: 13s\n",
      "222:\tlearn: 0.5107067\ttotal: 3.73s\tremaining: 13s\n",
      "223:\tlearn: 0.5105857\ttotal: 3.75s\tremaining: 13s\n",
      "224:\tlearn: 0.5104895\ttotal: 3.77s\tremaining: 13s\n",
      "225:\tlearn: 0.5103393\ttotal: 3.79s\tremaining: 13s\n",
      "226:\tlearn: 0.5102582\ttotal: 3.8s\tremaining: 12.9s\n",
      "227:\tlearn: 0.5100965\ttotal: 3.82s\tremaining: 12.9s\n",
      "228:\tlearn: 0.5100124\ttotal: 3.83s\tremaining: 12.9s\n",
      "229:\tlearn: 0.5099082\ttotal: 3.85s\tremaining: 12.9s\n",
      "230:\tlearn: 0.5098576\ttotal: 3.87s\tremaining: 12.9s\n",
      "231:\tlearn: 0.5097274\ttotal: 3.88s\tremaining: 12.9s\n",
      "232:\tlearn: 0.5096296\ttotal: 3.9s\tremaining: 12.8s\n",
      "233:\tlearn: 0.5095065\ttotal: 3.91s\tremaining: 12.8s\n",
      "234:\tlearn: 0.5094273\ttotal: 3.93s\tremaining: 12.8s\n",
      "235:\tlearn: 0.5093175\ttotal: 3.95s\tremaining: 12.8s\n",
      "236:\tlearn: 0.5091998\ttotal: 3.97s\tremaining: 12.8s\n",
      "237:\tlearn: 0.5090970\ttotal: 3.98s\tremaining: 12.7s\n",
      "238:\tlearn: 0.5090196\ttotal: 4s\tremaining: 12.7s\n",
      "239:\tlearn: 0.5088613\ttotal: 4.01s\tremaining: 12.7s\n",
      "240:\tlearn: 0.5087249\ttotal: 4.03s\tremaining: 12.7s\n",
      "241:\tlearn: 0.5086550\ttotal: 4.05s\tremaining: 12.7s\n",
      "242:\tlearn: 0.5085919\ttotal: 4.07s\tremaining: 12.7s\n",
      "243:\tlearn: 0.5085268\ttotal: 4.08s\tremaining: 12.6s\n",
      "244:\tlearn: 0.5084196\ttotal: 4.09s\tremaining: 12.6s\n",
      "245:\tlearn: 0.5083278\ttotal: 4.11s\tremaining: 12.6s\n",
      "246:\tlearn: 0.5082570\ttotal: 4.13s\tremaining: 12.6s\n",
      "247:\tlearn: 0.5081826\ttotal: 4.15s\tremaining: 12.6s\n",
      "248:\tlearn: 0.5081295\ttotal: 4.16s\tremaining: 12.6s\n",
      "249:\tlearn: 0.5080548\ttotal: 4.18s\tremaining: 12.5s\n",
      "250:\tlearn: 0.5079147\ttotal: 4.19s\tremaining: 12.5s\n",
      "251:\tlearn: 0.5078361\ttotal: 4.21s\tremaining: 12.5s\n",
      "252:\tlearn: 0.5077601\ttotal: 4.23s\tremaining: 12.5s\n",
      "253:\tlearn: 0.5075891\ttotal: 4.24s\tremaining: 12.5s\n",
      "254:\tlearn: 0.5075135\ttotal: 4.26s\tremaining: 12.4s\n",
      "255:\tlearn: 0.5073953\ttotal: 4.28s\tremaining: 12.4s\n",
      "256:\tlearn: 0.5072563\ttotal: 4.29s\tremaining: 12.4s\n",
      "257:\tlearn: 0.5071634\ttotal: 4.31s\tremaining: 12.4s\n",
      "258:\tlearn: 0.5070558\ttotal: 4.32s\tremaining: 12.4s\n",
      "259:\tlearn: 0.5069354\ttotal: 4.34s\tremaining: 12.3s\n",
      "260:\tlearn: 0.5068887\ttotal: 4.35s\tremaining: 12.3s\n",
      "261:\tlearn: 0.5067561\ttotal: 4.36s\tremaining: 12.3s\n",
      "262:\tlearn: 0.5066583\ttotal: 4.38s\tremaining: 12.3s\n",
      "263:\tlearn: 0.5065812\ttotal: 4.39s\tremaining: 12.2s\n",
      "264:\tlearn: 0.5064631\ttotal: 4.4s\tremaining: 12.2s\n",
      "265:\tlearn: 0.5063490\ttotal: 4.42s\tremaining: 12.2s\n",
      "266:\tlearn: 0.5062709\ttotal: 4.44s\tremaining: 12.2s\n",
      "267:\tlearn: 0.5061887\ttotal: 4.45s\tremaining: 12.2s\n",
      "268:\tlearn: 0.5060983\ttotal: 4.47s\tremaining: 12.1s\n",
      "269:\tlearn: 0.5060482\ttotal: 4.48s\tremaining: 12.1s\n",
      "270:\tlearn: 0.5059669\ttotal: 4.5s\tremaining: 12.1s\n",
      "271:\tlearn: 0.5058910\ttotal: 4.51s\tremaining: 12.1s\n",
      "272:\tlearn: 0.5058182\ttotal: 4.53s\tremaining: 12.1s\n",
      "273:\tlearn: 0.5057580\ttotal: 4.54s\tremaining: 12s\n",
      "274:\tlearn: 0.5056848\ttotal: 4.55s\tremaining: 12s\n",
      "275:\tlearn: 0.5055681\ttotal: 4.57s\tremaining: 12s\n",
      "276:\tlearn: 0.5054984\ttotal: 4.59s\tremaining: 12s\n",
      "277:\tlearn: 0.5053879\ttotal: 4.6s\tremaining: 12s\n",
      "278:\tlearn: 0.5053002\ttotal: 4.62s\tremaining: 11.9s\n",
      "279:\tlearn: 0.5052276\ttotal: 4.63s\tremaining: 11.9s\n",
      "280:\tlearn: 0.5051539\ttotal: 4.65s\tremaining: 11.9s\n",
      "281:\tlearn: 0.5050705\ttotal: 4.67s\tremaining: 11.9s\n",
      "282:\tlearn: 0.5049357\ttotal: 4.68s\tremaining: 11.9s\n",
      "283:\tlearn: 0.5048157\ttotal: 4.69s\tremaining: 11.8s\n",
      "284:\tlearn: 0.5047396\ttotal: 4.71s\tremaining: 11.8s\n",
      "285:\tlearn: 0.5046562\ttotal: 4.72s\tremaining: 11.8s\n",
      "286:\tlearn: 0.5045762\ttotal: 4.74s\tremaining: 11.8s\n",
      "287:\tlearn: 0.5044655\ttotal: 4.75s\tremaining: 11.7s\n",
      "288:\tlearn: 0.5042612\ttotal: 4.76s\tremaining: 11.7s\n",
      "289:\tlearn: 0.5042121\ttotal: 4.78s\tremaining: 11.7s\n",
      "290:\tlearn: 0.5041028\ttotal: 4.79s\tremaining: 11.7s\n",
      "291:\tlearn: 0.5040575\ttotal: 4.81s\tremaining: 11.7s\n",
      "292:\tlearn: 0.5039494\ttotal: 4.83s\tremaining: 11.7s\n",
      "293:\tlearn: 0.5038566\ttotal: 4.84s\tremaining: 11.6s\n",
      "294:\tlearn: 0.5037654\ttotal: 4.86s\tremaining: 11.6s\n",
      "295:\tlearn: 0.5036556\ttotal: 4.87s\tremaining: 11.6s\n",
      "296:\tlearn: 0.5036019\ttotal: 4.89s\tremaining: 11.6s\n",
      "297:\tlearn: 0.5035218\ttotal: 4.9s\tremaining: 11.5s\n",
      "298:\tlearn: 0.5033963\ttotal: 4.92s\tremaining: 11.5s\n",
      "299:\tlearn: 0.5032935\ttotal: 4.93s\tremaining: 11.5s\n",
      "300:\tlearn: 0.5032166\ttotal: 4.94s\tremaining: 11.5s\n",
      "301:\tlearn: 0.5031047\ttotal: 4.96s\tremaining: 11.5s\n",
      "302:\tlearn: 0.5030338\ttotal: 4.97s\tremaining: 11.4s\n",
      "303:\tlearn: 0.5029187\ttotal: 4.99s\tremaining: 11.4s\n",
      "304:\tlearn: 0.5028285\ttotal: 5s\tremaining: 11.4s\n",
      "305:\tlearn: 0.5027425\ttotal: 5.01s\tremaining: 11.4s\n",
      "306:\tlearn: 0.5026824\ttotal: 5.03s\tremaining: 11.3s\n",
      "307:\tlearn: 0.5026151\ttotal: 5.04s\tremaining: 11.3s\n",
      "308:\tlearn: 0.5024859\ttotal: 5.05s\tremaining: 11.3s\n",
      "309:\tlearn: 0.5023774\ttotal: 5.07s\tremaining: 11.3s\n",
      "310:\tlearn: 0.5023083\ttotal: 5.08s\tremaining: 11.3s\n",
      "311:\tlearn: 0.5022360\ttotal: 5.1s\tremaining: 11.2s\n",
      "312:\tlearn: 0.5021487\ttotal: 5.11s\tremaining: 11.2s\n",
      "313:\tlearn: 0.5020657\ttotal: 5.13s\tremaining: 11.2s\n",
      "314:\tlearn: 0.5019943\ttotal: 5.14s\tremaining: 11.2s\n",
      "315:\tlearn: 0.5019269\ttotal: 5.16s\tremaining: 11.2s\n",
      "316:\tlearn: 0.5018082\ttotal: 5.17s\tremaining: 11.1s\n",
      "317:\tlearn: 0.5017361\ttotal: 5.19s\tremaining: 11.1s\n",
      "318:\tlearn: 0.5016472\ttotal: 5.2s\tremaining: 11.1s\n",
      "319:\tlearn: 0.5015475\ttotal: 5.21s\tremaining: 11.1s\n",
      "320:\tlearn: 0.5014673\ttotal: 5.22s\tremaining: 11.1s\n",
      "321:\tlearn: 0.5013317\ttotal: 5.24s\tremaining: 11s\n",
      "322:\tlearn: 0.5012404\ttotal: 5.25s\tremaining: 11s\n",
      "323:\tlearn: 0.5011722\ttotal: 5.26s\tremaining: 11s\n",
      "324:\tlearn: 0.5010906\ttotal: 5.28s\tremaining: 11s\n",
      "325:\tlearn: 0.5010216\ttotal: 5.29s\tremaining: 10.9s\n",
      "326:\tlearn: 0.5009520\ttotal: 5.3s\tremaining: 10.9s\n",
      "327:\tlearn: 0.5008403\ttotal: 5.32s\tremaining: 10.9s\n",
      "328:\tlearn: 0.5007661\ttotal: 5.34s\tremaining: 10.9s\n",
      "329:\tlearn: 0.5007035\ttotal: 5.36s\tremaining: 10.9s\n",
      "330:\tlearn: 0.5006484\ttotal: 5.37s\tremaining: 10.9s\n",
      "331:\tlearn: 0.5006079\ttotal: 5.39s\tremaining: 10.8s\n",
      "332:\tlearn: 0.5005255\ttotal: 5.4s\tremaining: 10.8s\n",
      "333:\tlearn: 0.5004427\ttotal: 5.42s\tremaining: 10.8s\n",
      "334:\tlearn: 0.5003489\ttotal: 5.43s\tremaining: 10.8s\n",
      "335:\tlearn: 0.5002671\ttotal: 5.44s\tremaining: 10.8s\n",
      "336:\tlearn: 0.5001794\ttotal: 5.46s\tremaining: 10.7s\n",
      "337:\tlearn: 0.5001040\ttotal: 5.47s\tremaining: 10.7s\n",
      "338:\tlearn: 0.5000405\ttotal: 5.48s\tremaining: 10.7s\n",
      "339:\tlearn: 0.4999438\ttotal: 5.5s\tremaining: 10.7s\n",
      "340:\tlearn: 0.4998859\ttotal: 5.51s\tremaining: 10.7s\n",
      "341:\tlearn: 0.4998325\ttotal: 5.53s\tremaining: 10.6s\n",
      "342:\tlearn: 0.4997475\ttotal: 5.54s\tremaining: 10.6s\n",
      "343:\tlearn: 0.4996838\ttotal: 5.56s\tremaining: 10.6s\n",
      "344:\tlearn: 0.4996086\ttotal: 5.57s\tremaining: 10.6s\n",
      "345:\tlearn: 0.4995151\ttotal: 5.58s\tremaining: 10.6s\n",
      "346:\tlearn: 0.4994150\ttotal: 5.6s\tremaining: 10.5s\n",
      "347:\tlearn: 0.4993709\ttotal: 5.61s\tremaining: 10.5s\n",
      "348:\tlearn: 0.4992896\ttotal: 5.63s\tremaining: 10.5s\n",
      "349:\tlearn: 0.4992245\ttotal: 5.64s\tremaining: 10.5s\n",
      "350:\tlearn: 0.4991315\ttotal: 5.66s\tremaining: 10.5s\n",
      "351:\tlearn: 0.4990389\ttotal: 5.68s\tremaining: 10.5s\n",
      "352:\tlearn: 0.4989551\ttotal: 5.7s\tremaining: 10.4s\n",
      "353:\tlearn: 0.4988841\ttotal: 5.71s\tremaining: 10.4s\n",
      "354:\tlearn: 0.4987638\ttotal: 5.72s\tremaining: 10.4s\n",
      "355:\tlearn: 0.4986905\ttotal: 5.74s\tremaining: 10.4s\n",
      "356:\tlearn: 0.4986037\ttotal: 5.75s\tremaining: 10.4s\n",
      "357:\tlearn: 0.4985536\ttotal: 5.76s\tremaining: 10.3s\n",
      "358:\tlearn: 0.4984718\ttotal: 5.78s\tremaining: 10.3s\n",
      "359:\tlearn: 0.4984029\ttotal: 5.79s\tremaining: 10.3s\n",
      "360:\tlearn: 0.4983114\ttotal: 5.8s\tremaining: 10.3s\n",
      "361:\tlearn: 0.4982156\ttotal: 5.82s\tremaining: 10.3s\n",
      "362:\tlearn: 0.4981445\ttotal: 5.83s\tremaining: 10.2s\n",
      "363:\tlearn: 0.4980836\ttotal: 5.85s\tremaining: 10.2s\n",
      "364:\tlearn: 0.4980350\ttotal: 5.88s\tremaining: 10.2s\n",
      "365:\tlearn: 0.4979616\ttotal: 5.89s\tremaining: 10.2s\n",
      "366:\tlearn: 0.4978808\ttotal: 5.91s\tremaining: 10.2s\n",
      "367:\tlearn: 0.4978163\ttotal: 5.92s\tremaining: 10.2s\n",
      "368:\tlearn: 0.4977513\ttotal: 5.94s\tremaining: 10.2s\n",
      "369:\tlearn: 0.4976696\ttotal: 5.96s\tremaining: 10.1s\n",
      "370:\tlearn: 0.4975629\ttotal: 5.98s\tremaining: 10.1s\n",
      "371:\tlearn: 0.4974539\ttotal: 5.99s\tremaining: 10.1s\n",
      "372:\tlearn: 0.4973731\ttotal: 6.01s\tremaining: 10.1s\n",
      "373:\tlearn: 0.4973002\ttotal: 6.02s\tremaining: 10.1s\n",
      "374:\tlearn: 0.4972022\ttotal: 6.04s\tremaining: 10.1s\n",
      "375:\tlearn: 0.4971323\ttotal: 6.06s\tremaining: 10.1s\n",
      "376:\tlearn: 0.4970264\ttotal: 6.07s\tremaining: 10s\n",
      "377:\tlearn: 0.4969500\ttotal: 6.09s\tremaining: 10s\n",
      "378:\tlearn: 0.4968792\ttotal: 6.11s\tremaining: 10s\n",
      "379:\tlearn: 0.4967803\ttotal: 6.12s\tremaining: 9.99s\n",
      "380:\tlearn: 0.4967158\ttotal: 6.14s\tremaining: 9.97s\n",
      "381:\tlearn: 0.4966544\ttotal: 6.15s\tremaining: 9.95s\n",
      "382:\tlearn: 0.4966106\ttotal: 6.17s\tremaining: 9.94s\n",
      "383:\tlearn: 0.4965336\ttotal: 6.19s\tremaining: 9.92s\n",
      "384:\tlearn: 0.4964522\ttotal: 6.21s\tremaining: 9.91s\n",
      "385:\tlearn: 0.4963905\ttotal: 6.22s\tremaining: 9.9s\n",
      "386:\tlearn: 0.4963339\ttotal: 6.24s\tremaining: 9.88s\n",
      "387:\tlearn: 0.4962784\ttotal: 6.26s\tremaining: 9.87s\n",
      "388:\tlearn: 0.4962271\ttotal: 6.28s\tremaining: 9.87s\n",
      "389:\tlearn: 0.4961448\ttotal: 6.3s\tremaining: 9.86s\n",
      "390:\tlearn: 0.4960795\ttotal: 6.32s\tremaining: 9.84s\n",
      "391:\tlearn: 0.4960072\ttotal: 6.34s\tremaining: 9.83s\n",
      "392:\tlearn: 0.4958941\ttotal: 6.35s\tremaining: 9.81s\n",
      "393:\tlearn: 0.4958148\ttotal: 6.37s\tremaining: 9.79s\n",
      "394:\tlearn: 0.4957459\ttotal: 6.39s\tremaining: 9.79s\n",
      "395:\tlearn: 0.4956759\ttotal: 6.4s\tremaining: 9.77s\n",
      "396:\tlearn: 0.4955693\ttotal: 6.42s\tremaining: 9.75s\n",
      "397:\tlearn: 0.4954851\ttotal: 6.43s\tremaining: 9.73s\n",
      "398:\tlearn: 0.4953926\ttotal: 6.45s\tremaining: 9.72s\n",
      "399:\tlearn: 0.4953369\ttotal: 6.47s\tremaining: 9.7s\n",
      "400:\tlearn: 0.4952428\ttotal: 6.49s\tremaining: 9.69s\n",
      "401:\tlearn: 0.4951881\ttotal: 6.5s\tremaining: 9.68s\n",
      "402:\tlearn: 0.4951039\ttotal: 6.53s\tremaining: 9.67s\n",
      "403:\tlearn: 0.4950426\ttotal: 6.54s\tremaining: 9.65s\n",
      "404:\tlearn: 0.4949908\ttotal: 6.56s\tremaining: 9.64s\n",
      "405:\tlearn: 0.4949173\ttotal: 6.58s\tremaining: 9.62s\n",
      "406:\tlearn: 0.4948414\ttotal: 6.59s\tremaining: 9.6s\n",
      "407:\tlearn: 0.4947373\ttotal: 6.61s\tremaining: 9.59s\n",
      "408:\tlearn: 0.4946779\ttotal: 6.62s\tremaining: 9.57s\n",
      "409:\tlearn: 0.4946152\ttotal: 6.64s\tremaining: 9.55s\n",
      "410:\tlearn: 0.4945472\ttotal: 6.66s\tremaining: 9.54s\n",
      "411:\tlearn: 0.4944586\ttotal: 6.68s\tremaining: 9.54s\n",
      "412:\tlearn: 0.4943873\ttotal: 6.7s\tremaining: 9.53s\n",
      "413:\tlearn: 0.4942984\ttotal: 6.72s\tremaining: 9.51s\n",
      "414:\tlearn: 0.4942348\ttotal: 6.74s\tremaining: 9.49s\n",
      "415:\tlearn: 0.4941533\ttotal: 6.75s\tremaining: 9.48s\n",
      "416:\tlearn: 0.4940993\ttotal: 6.77s\tremaining: 9.46s\n",
      "417:\tlearn: 0.4940131\ttotal: 6.79s\tremaining: 9.45s\n",
      "418:\tlearn: 0.4939527\ttotal: 6.8s\tremaining: 9.43s\n",
      "419:\tlearn: 0.4938553\ttotal: 6.82s\tremaining: 9.42s\n",
      "420:\tlearn: 0.4937948\ttotal: 6.84s\tremaining: 9.41s\n",
      "421:\tlearn: 0.4937244\ttotal: 6.86s\tremaining: 9.4s\n",
      "422:\tlearn: 0.4936430\ttotal: 6.88s\tremaining: 9.39s\n",
      "423:\tlearn: 0.4935548\ttotal: 6.9s\tremaining: 9.37s\n",
      "424:\tlearn: 0.4934982\ttotal: 6.92s\tremaining: 9.37s\n",
      "425:\tlearn: 0.4934087\ttotal: 6.94s\tremaining: 9.35s\n",
      "426:\tlearn: 0.4933237\ttotal: 6.95s\tremaining: 9.33s\n",
      "427:\tlearn: 0.4932473\ttotal: 6.97s\tremaining: 9.31s\n",
      "428:\tlearn: 0.4931753\ttotal: 6.99s\tremaining: 9.3s\n",
      "429:\tlearn: 0.4931056\ttotal: 7s\tremaining: 9.28s\n",
      "430:\tlearn: 0.4929723\ttotal: 7.02s\tremaining: 9.27s\n",
      "431:\tlearn: 0.4928868\ttotal: 7.04s\tremaining: 9.25s\n",
      "432:\tlearn: 0.4927641\ttotal: 7.05s\tremaining: 9.24s\n",
      "433:\tlearn: 0.4926756\ttotal: 7.07s\tremaining: 9.22s\n",
      "434:\tlearn: 0.4925973\ttotal: 7.08s\tremaining: 9.2s\n",
      "435:\tlearn: 0.4925122\ttotal: 7.1s\tremaining: 9.19s\n",
      "436:\tlearn: 0.4924402\ttotal: 7.12s\tremaining: 9.17s\n",
      "437:\tlearn: 0.4923941\ttotal: 7.14s\tremaining: 9.16s\n",
      "438:\tlearn: 0.4923407\ttotal: 7.15s\tremaining: 9.14s\n",
      "439:\tlearn: 0.4922794\ttotal: 7.17s\tremaining: 9.12s\n",
      "440:\tlearn: 0.4921965\ttotal: 7.18s\tremaining: 9.11s\n",
      "441:\tlearn: 0.4921124\ttotal: 7.2s\tremaining: 9.09s\n",
      "442:\tlearn: 0.4920349\ttotal: 7.22s\tremaining: 9.08s\n",
      "443:\tlearn: 0.4919592\ttotal: 7.24s\tremaining: 9.06s\n",
      "444:\tlearn: 0.4918822\ttotal: 7.25s\tremaining: 9.05s\n",
      "445:\tlearn: 0.4917925\ttotal: 7.27s\tremaining: 9.03s\n",
      "446:\tlearn: 0.4917170\ttotal: 7.29s\tremaining: 9.01s\n",
      "447:\tlearn: 0.4916352\ttotal: 7.3s\tremaining: 9s\n",
      "448:\tlearn: 0.4915538\ttotal: 7.32s\tremaining: 8.98s\n",
      "449:\tlearn: 0.4914604\ttotal: 7.34s\tremaining: 8.97s\n",
      "450:\tlearn: 0.4914042\ttotal: 7.36s\tremaining: 8.95s\n",
      "451:\tlearn: 0.4913561\ttotal: 7.37s\tremaining: 8.94s\n",
      "452:\tlearn: 0.4913028\ttotal: 7.39s\tremaining: 8.93s\n",
      "453:\tlearn: 0.4912359\ttotal: 7.41s\tremaining: 8.92s\n",
      "454:\tlearn: 0.4911664\ttotal: 7.43s\tremaining: 8.9s\n",
      "455:\tlearn: 0.4911117\ttotal: 7.45s\tremaining: 8.89s\n",
      "456:\tlearn: 0.4910582\ttotal: 7.47s\tremaining: 8.88s\n",
      "457:\tlearn: 0.4909959\ttotal: 7.49s\tremaining: 8.87s\n",
      "458:\tlearn: 0.4909182\ttotal: 7.51s\tremaining: 8.85s\n",
      "459:\tlearn: 0.4908337\ttotal: 7.53s\tremaining: 8.84s\n",
      "460:\tlearn: 0.4907680\ttotal: 7.55s\tremaining: 8.82s\n",
      "461:\tlearn: 0.4906738\ttotal: 7.56s\tremaining: 8.81s\n",
      "462:\tlearn: 0.4905561\ttotal: 7.59s\tremaining: 8.8s\n",
      "463:\tlearn: 0.4904521\ttotal: 7.61s\tremaining: 8.79s\n",
      "464:\tlearn: 0.4903524\ttotal: 7.63s\tremaining: 8.77s\n",
      "465:\tlearn: 0.4902856\ttotal: 7.64s\tremaining: 8.76s\n",
      "466:\tlearn: 0.4902157\ttotal: 7.67s\tremaining: 8.75s\n",
      "467:\tlearn: 0.4901416\ttotal: 7.68s\tremaining: 8.73s\n",
      "468:\tlearn: 0.4900869\ttotal: 7.7s\tremaining: 8.72s\n",
      "469:\tlearn: 0.4900268\ttotal: 7.72s\tremaining: 8.71s\n",
      "470:\tlearn: 0.4899697\ttotal: 7.75s\tremaining: 8.7s\n",
      "471:\tlearn: 0.4899143\ttotal: 7.77s\tremaining: 8.7s\n",
      "472:\tlearn: 0.4898328\ttotal: 7.79s\tremaining: 8.68s\n",
      "473:\tlearn: 0.4897570\ttotal: 7.81s\tremaining: 8.67s\n",
      "474:\tlearn: 0.4896826\ttotal: 7.83s\tremaining: 8.65s\n",
      "475:\tlearn: 0.4896217\ttotal: 7.85s\tremaining: 8.64s\n",
      "476:\tlearn: 0.4895651\ttotal: 7.87s\tremaining: 8.63s\n",
      "477:\tlearn: 0.4894819\ttotal: 7.89s\tremaining: 8.62s\n",
      "478:\tlearn: 0.4894236\ttotal: 7.92s\tremaining: 8.62s\n",
      "479:\tlearn: 0.4893521\ttotal: 7.96s\tremaining: 8.62s\n",
      "480:\tlearn: 0.4893101\ttotal: 7.99s\tremaining: 8.62s\n",
      "481:\tlearn: 0.4892397\ttotal: 8.01s\tremaining: 8.61s\n",
      "482:\tlearn: 0.4891502\ttotal: 8.03s\tremaining: 8.6s\n",
      "483:\tlearn: 0.4890986\ttotal: 8.05s\tremaining: 8.58s\n",
      "484:\tlearn: 0.4890286\ttotal: 8.07s\tremaining: 8.57s\n",
      "485:\tlearn: 0.4889348\ttotal: 8.09s\tremaining: 8.55s\n",
      "486:\tlearn: 0.4888646\ttotal: 8.11s\tremaining: 8.54s\n",
      "487:\tlearn: 0.4887918\ttotal: 8.13s\tremaining: 8.53s\n",
      "488:\tlearn: 0.4887334\ttotal: 8.14s\tremaining: 8.51s\n",
      "489:\tlearn: 0.4886874\ttotal: 8.16s\tremaining: 8.49s\n",
      "490:\tlearn: 0.4885352\ttotal: 8.18s\tremaining: 8.48s\n",
      "491:\tlearn: 0.4884836\ttotal: 8.2s\tremaining: 8.46s\n",
      "492:\tlearn: 0.4883957\ttotal: 8.21s\tremaining: 8.45s\n",
      "493:\tlearn: 0.4883266\ttotal: 8.23s\tremaining: 8.43s\n",
      "494:\tlearn: 0.4882536\ttotal: 8.25s\tremaining: 8.42s\n",
      "495:\tlearn: 0.4882065\ttotal: 8.27s\tremaining: 8.4s\n",
      "496:\tlearn: 0.4881720\ttotal: 8.28s\tremaining: 8.38s\n",
      "497:\tlearn: 0.4880876\ttotal: 8.3s\tremaining: 8.37s\n",
      "498:\tlearn: 0.4880058\ttotal: 8.32s\tremaining: 8.35s\n",
      "499:\tlearn: 0.4879687\ttotal: 8.34s\tremaining: 8.34s\n",
      "500:\tlearn: 0.4879025\ttotal: 8.35s\tremaining: 8.32s\n",
      "501:\tlearn: 0.4878491\ttotal: 8.36s\tremaining: 8.3s\n",
      "502:\tlearn: 0.4878079\ttotal: 8.38s\tremaining: 8.28s\n",
      "503:\tlearn: 0.4877439\ttotal: 8.4s\tremaining: 8.26s\n",
      "504:\tlearn: 0.4876376\ttotal: 8.41s\tremaining: 8.25s\n",
      "505:\tlearn: 0.4875624\ttotal: 8.43s\tremaining: 8.23s\n",
      "506:\tlearn: 0.4875347\ttotal: 8.44s\tremaining: 8.21s\n",
      "507:\tlearn: 0.4874705\ttotal: 8.46s\tremaining: 8.19s\n",
      "508:\tlearn: 0.4874126\ttotal: 8.47s\tremaining: 8.17s\n",
      "509:\tlearn: 0.4873068\ttotal: 8.49s\tremaining: 8.15s\n",
      "510:\tlearn: 0.4872397\ttotal: 8.5s\tremaining: 8.13s\n",
      "511:\tlearn: 0.4871783\ttotal: 8.52s\tremaining: 8.12s\n",
      "512:\tlearn: 0.4871361\ttotal: 8.53s\tremaining: 8.1s\n",
      "513:\tlearn: 0.4870911\ttotal: 8.54s\tremaining: 8.08s\n",
      "514:\tlearn: 0.4870483\ttotal: 8.56s\tremaining: 8.06s\n",
      "515:\tlearn: 0.4870189\ttotal: 8.57s\tremaining: 8.04s\n",
      "516:\tlearn: 0.4869495\ttotal: 8.59s\tremaining: 8.03s\n",
      "517:\tlearn: 0.4868509\ttotal: 8.61s\tremaining: 8.01s\n",
      "518:\tlearn: 0.4867779\ttotal: 8.62s\tremaining: 7.99s\n",
      "519:\tlearn: 0.4867325\ttotal: 8.63s\tremaining: 7.97s\n",
      "520:\tlearn: 0.4866518\ttotal: 8.65s\tremaining: 7.95s\n",
      "521:\tlearn: 0.4866088\ttotal: 8.67s\tremaining: 7.94s\n",
      "522:\tlearn: 0.4865389\ttotal: 8.69s\tremaining: 7.92s\n",
      "523:\tlearn: 0.4864726\ttotal: 8.71s\tremaining: 7.91s\n",
      "524:\tlearn: 0.4863964\ttotal: 8.72s\tremaining: 7.89s\n",
      "525:\tlearn: 0.4863139\ttotal: 8.74s\tremaining: 7.87s\n",
      "526:\tlearn: 0.4862433\ttotal: 8.75s\tremaining: 7.86s\n",
      "527:\tlearn: 0.4861660\ttotal: 8.77s\tremaining: 7.84s\n",
      "528:\tlearn: 0.4860841\ttotal: 8.79s\tremaining: 7.83s\n",
      "529:\tlearn: 0.4860146\ttotal: 8.81s\tremaining: 7.81s\n",
      "530:\tlearn: 0.4859420\ttotal: 8.82s\tremaining: 7.79s\n",
      "531:\tlearn: 0.4858738\ttotal: 8.84s\tremaining: 7.78s\n",
      "532:\tlearn: 0.4858088\ttotal: 8.86s\tremaining: 7.76s\n",
      "533:\tlearn: 0.4857515\ttotal: 8.87s\tremaining: 7.74s\n",
      "534:\tlearn: 0.4856985\ttotal: 8.89s\tremaining: 7.73s\n",
      "535:\tlearn: 0.4856527\ttotal: 8.9s\tremaining: 7.71s\n",
      "536:\tlearn: 0.4856149\ttotal: 8.92s\tremaining: 7.69s\n",
      "537:\tlearn: 0.4855438\ttotal: 8.94s\tremaining: 7.67s\n",
      "538:\tlearn: 0.4854699\ttotal: 8.95s\tremaining: 7.66s\n",
      "539:\tlearn: 0.4854039\ttotal: 8.97s\tremaining: 7.64s\n",
      "540:\tlearn: 0.4853324\ttotal: 8.98s\tremaining: 7.62s\n",
      "541:\tlearn: 0.4852530\ttotal: 9s\tremaining: 7.61s\n",
      "542:\tlearn: 0.4851988\ttotal: 9.02s\tremaining: 7.59s\n",
      "543:\tlearn: 0.4851347\ttotal: 9.04s\tremaining: 7.58s\n",
      "544:\tlearn: 0.4850598\ttotal: 9.06s\tremaining: 7.56s\n",
      "545:\tlearn: 0.4849874\ttotal: 9.07s\tremaining: 7.54s\n",
      "546:\tlearn: 0.4849097\ttotal: 9.09s\tremaining: 7.53s\n",
      "547:\tlearn: 0.4848545\ttotal: 9.1s\tremaining: 7.51s\n",
      "548:\tlearn: 0.4847719\ttotal: 9.12s\tremaining: 7.49s\n",
      "549:\tlearn: 0.4847144\ttotal: 9.13s\tremaining: 7.47s\n",
      "550:\tlearn: 0.4846684\ttotal: 9.15s\tremaining: 7.45s\n",
      "551:\tlearn: 0.4845820\ttotal: 9.17s\tremaining: 7.44s\n",
      "552:\tlearn: 0.4845551\ttotal: 9.18s\tremaining: 7.42s\n",
      "553:\tlearn: 0.4844854\ttotal: 9.2s\tremaining: 7.41s\n",
      "554:\tlearn: 0.4844272\ttotal: 9.21s\tremaining: 7.39s\n",
      "555:\tlearn: 0.4843856\ttotal: 9.23s\tremaining: 7.37s\n",
      "556:\tlearn: 0.4843296\ttotal: 9.25s\tremaining: 7.35s\n",
      "557:\tlearn: 0.4842667\ttotal: 9.26s\tremaining: 7.34s\n",
      "558:\tlearn: 0.4842116\ttotal: 9.28s\tremaining: 7.32s\n",
      "559:\tlearn: 0.4841508\ttotal: 9.29s\tremaining: 7.3s\n",
      "560:\tlearn: 0.4840729\ttotal: 9.31s\tremaining: 7.29s\n",
      "561:\tlearn: 0.4839920\ttotal: 9.33s\tremaining: 7.27s\n",
      "562:\tlearn: 0.4839370\ttotal: 9.34s\tremaining: 7.25s\n",
      "563:\tlearn: 0.4838874\ttotal: 9.36s\tremaining: 7.23s\n",
      "564:\tlearn: 0.4838350\ttotal: 9.38s\tremaining: 7.22s\n",
      "565:\tlearn: 0.4837869\ttotal: 9.39s\tremaining: 7.2s\n",
      "566:\tlearn: 0.4837142\ttotal: 9.41s\tremaining: 7.18s\n",
      "567:\tlearn: 0.4836479\ttotal: 9.42s\tremaining: 7.17s\n",
      "568:\tlearn: 0.4835841\ttotal: 9.44s\tremaining: 7.15s\n",
      "569:\tlearn: 0.4835435\ttotal: 9.46s\tremaining: 7.13s\n",
      "570:\tlearn: 0.4834471\ttotal: 9.47s\tremaining: 7.12s\n",
      "571:\tlearn: 0.4833749\ttotal: 9.49s\tremaining: 7.1s\n",
      "572:\tlearn: 0.4832996\ttotal: 9.5s\tremaining: 7.08s\n",
      "573:\tlearn: 0.4832290\ttotal: 9.52s\tremaining: 7.06s\n",
      "574:\tlearn: 0.4831684\ttotal: 9.53s\tremaining: 7.05s\n",
      "575:\tlearn: 0.4831031\ttotal: 9.55s\tremaining: 7.03s\n",
      "576:\tlearn: 0.4830453\ttotal: 9.57s\tremaining: 7.01s\n",
      "577:\tlearn: 0.4829830\ttotal: 9.58s\tremaining: 7s\n",
      "578:\tlearn: 0.4829069\ttotal: 9.6s\tremaining: 6.98s\n",
      "579:\tlearn: 0.4828228\ttotal: 9.62s\tremaining: 6.96s\n",
      "580:\tlearn: 0.4827630\ttotal: 9.63s\tremaining: 6.95s\n",
      "581:\tlearn: 0.4827241\ttotal: 9.65s\tremaining: 6.93s\n",
      "582:\tlearn: 0.4826644\ttotal: 9.66s\tremaining: 6.91s\n",
      "583:\tlearn: 0.4826034\ttotal: 9.68s\tremaining: 6.89s\n",
      "584:\tlearn: 0.4825393\ttotal: 9.69s\tremaining: 6.88s\n",
      "585:\tlearn: 0.4824683\ttotal: 9.71s\tremaining: 6.86s\n",
      "586:\tlearn: 0.4823990\ttotal: 9.72s\tremaining: 6.84s\n",
      "587:\tlearn: 0.4823369\ttotal: 9.74s\tremaining: 6.83s\n",
      "588:\tlearn: 0.4822423\ttotal: 9.76s\tremaining: 6.81s\n",
      "589:\tlearn: 0.4821807\ttotal: 9.77s\tremaining: 6.79s\n",
      "590:\tlearn: 0.4821274\ttotal: 9.79s\tremaining: 6.77s\n",
      "591:\tlearn: 0.4820572\ttotal: 9.8s\tremaining: 6.76s\n",
      "592:\tlearn: 0.4819771\ttotal: 9.82s\tremaining: 6.74s\n",
      "593:\tlearn: 0.4819310\ttotal: 9.84s\tremaining: 6.73s\n",
      "594:\tlearn: 0.4818710\ttotal: 9.86s\tremaining: 6.71s\n",
      "595:\tlearn: 0.4818067\ttotal: 9.88s\tremaining: 6.7s\n",
      "596:\tlearn: 0.4817469\ttotal: 9.9s\tremaining: 6.68s\n",
      "597:\tlearn: 0.4816800\ttotal: 9.91s\tremaining: 6.66s\n",
      "598:\tlearn: 0.4815989\ttotal: 9.93s\tremaining: 6.64s\n",
      "599:\tlearn: 0.4815471\ttotal: 9.94s\tremaining: 6.63s\n",
      "600:\tlearn: 0.4814658\ttotal: 9.96s\tremaining: 6.61s\n",
      "601:\tlearn: 0.4813795\ttotal: 9.97s\tremaining: 6.59s\n",
      "602:\tlearn: 0.4813292\ttotal: 9.99s\tremaining: 6.58s\n",
      "603:\tlearn: 0.4812741\ttotal: 10s\tremaining: 6.56s\n",
      "604:\tlearn: 0.4812334\ttotal: 10s\tremaining: 6.55s\n",
      "605:\tlearn: 0.4811536\ttotal: 10s\tremaining: 6.53s\n",
      "606:\tlearn: 0.4810919\ttotal: 10.1s\tremaining: 6.51s\n",
      "607:\tlearn: 0.4809995\ttotal: 10.1s\tremaining: 6.5s\n",
      "608:\tlearn: 0.4809408\ttotal: 10.1s\tremaining: 6.49s\n",
      "609:\tlearn: 0.4808881\ttotal: 10.1s\tremaining: 6.47s\n",
      "610:\tlearn: 0.4808041\ttotal: 10.1s\tremaining: 6.45s\n",
      "611:\tlearn: 0.4807365\ttotal: 10.2s\tremaining: 6.44s\n",
      "612:\tlearn: 0.4806335\ttotal: 10.2s\tremaining: 6.43s\n",
      "613:\tlearn: 0.4805566\ttotal: 10.2s\tremaining: 6.42s\n",
      "614:\tlearn: 0.4804885\ttotal: 10.2s\tremaining: 6.4s\n",
      "615:\tlearn: 0.4804184\ttotal: 10.2s\tremaining: 6.39s\n",
      "616:\tlearn: 0.4803542\ttotal: 10.3s\tremaining: 6.37s\n",
      "617:\tlearn: 0.4802709\ttotal: 10.3s\tremaining: 6.36s\n",
      "618:\tlearn: 0.4802143\ttotal: 10.3s\tremaining: 6.34s\n",
      "619:\tlearn: 0.4801515\ttotal: 10.3s\tremaining: 6.33s\n",
      "620:\tlearn: 0.4801139\ttotal: 10.3s\tremaining: 6.31s\n",
      "621:\tlearn: 0.4800592\ttotal: 10.4s\tremaining: 6.31s\n",
      "622:\tlearn: 0.4800102\ttotal: 10.4s\tremaining: 6.29s\n",
      "623:\tlearn: 0.4798802\ttotal: 10.4s\tremaining: 6.28s\n",
      "624:\tlearn: 0.4797840\ttotal: 10.4s\tremaining: 6.26s\n",
      "625:\tlearn: 0.4797027\ttotal: 10.5s\tremaining: 6.25s\n",
      "626:\tlearn: 0.4796606\ttotal: 10.5s\tremaining: 6.23s\n",
      "627:\tlearn: 0.4796209\ttotal: 10.5s\tremaining: 6.21s\n",
      "628:\tlearn: 0.4795600\ttotal: 10.5s\tremaining: 6.19s\n",
      "629:\tlearn: 0.4795203\ttotal: 10.5s\tremaining: 6.17s\n",
      "630:\tlearn: 0.4794707\ttotal: 10.5s\tremaining: 6.16s\n",
      "631:\tlearn: 0.4794267\ttotal: 10.5s\tremaining: 6.14s\n",
      "632:\tlearn: 0.4793739\ttotal: 10.6s\tremaining: 6.12s\n",
      "633:\tlearn: 0.4793146\ttotal: 10.6s\tremaining: 6.11s\n",
      "634:\tlearn: 0.4792721\ttotal: 10.6s\tremaining: 6.09s\n",
      "635:\tlearn: 0.4792154\ttotal: 10.6s\tremaining: 6.07s\n",
      "636:\tlearn: 0.4791673\ttotal: 10.6s\tremaining: 6.05s\n",
      "637:\tlearn: 0.4791128\ttotal: 10.6s\tremaining: 6.04s\n",
      "638:\tlearn: 0.4790468\ttotal: 10.7s\tremaining: 6.02s\n",
      "639:\tlearn: 0.4789721\ttotal: 10.7s\tremaining: 6s\n",
      "640:\tlearn: 0.4789072\ttotal: 10.7s\tremaining: 5.99s\n",
      "641:\tlearn: 0.4788322\ttotal: 10.7s\tremaining: 5.97s\n",
      "642:\tlearn: 0.4787520\ttotal: 10.7s\tremaining: 5.96s\n",
      "643:\tlearn: 0.4786867\ttotal: 10.7s\tremaining: 5.94s\n",
      "644:\tlearn: 0.4786150\ttotal: 10.8s\tremaining: 5.92s\n",
      "645:\tlearn: 0.4785410\ttotal: 10.8s\tremaining: 5.91s\n",
      "646:\tlearn: 0.4784883\ttotal: 10.8s\tremaining: 5.89s\n",
      "647:\tlearn: 0.4784288\ttotal: 10.8s\tremaining: 5.87s\n",
      "648:\tlearn: 0.4783317\ttotal: 10.8s\tremaining: 5.85s\n",
      "649:\tlearn: 0.4782524\ttotal: 10.8s\tremaining: 5.83s\n",
      "650:\tlearn: 0.4781715\ttotal: 10.9s\tremaining: 5.82s\n",
      "651:\tlearn: 0.4781261\ttotal: 10.9s\tremaining: 5.8s\n",
      "652:\tlearn: 0.4780704\ttotal: 10.9s\tremaining: 5.79s\n",
      "653:\tlearn: 0.4779844\ttotal: 10.9s\tremaining: 5.77s\n",
      "654:\tlearn: 0.4779278\ttotal: 10.9s\tremaining: 5.76s\n",
      "655:\tlearn: 0.4778766\ttotal: 10.9s\tremaining: 5.74s\n",
      "656:\tlearn: 0.4778301\ttotal: 11s\tremaining: 5.72s\n",
      "657:\tlearn: 0.4778005\ttotal: 11s\tremaining: 5.7s\n",
      "658:\tlearn: 0.4777292\ttotal: 11s\tremaining: 5.69s\n",
      "659:\tlearn: 0.4776792\ttotal: 11s\tremaining: 5.67s\n",
      "660:\tlearn: 0.4776064\ttotal: 11s\tremaining: 5.65s\n",
      "661:\tlearn: 0.4775413\ttotal: 11s\tremaining: 5.63s\n",
      "662:\tlearn: 0.4774983\ttotal: 11.1s\tremaining: 5.62s\n",
      "663:\tlearn: 0.4774495\ttotal: 11.1s\tremaining: 5.6s\n",
      "664:\tlearn: 0.4773786\ttotal: 11.1s\tremaining: 5.58s\n",
      "665:\tlearn: 0.4773253\ttotal: 11.1s\tremaining: 5.57s\n",
      "666:\tlearn: 0.4772515\ttotal: 11.1s\tremaining: 5.55s\n",
      "667:\tlearn: 0.4772086\ttotal: 11.1s\tremaining: 5.53s\n",
      "668:\tlearn: 0.4771560\ttotal: 11.2s\tremaining: 5.52s\n",
      "669:\tlearn: 0.4770995\ttotal: 11.2s\tremaining: 5.5s\n",
      "670:\tlearn: 0.4770446\ttotal: 11.2s\tremaining: 5.48s\n",
      "671:\tlearn: 0.4769986\ttotal: 11.2s\tremaining: 5.47s\n",
      "672:\tlearn: 0.4769387\ttotal: 11.2s\tremaining: 5.45s\n",
      "673:\tlearn: 0.4768694\ttotal: 11.2s\tremaining: 5.43s\n",
      "674:\tlearn: 0.4768141\ttotal: 11.2s\tremaining: 5.41s\n",
      "675:\tlearn: 0.4767194\ttotal: 11.3s\tremaining: 5.39s\n",
      "676:\tlearn: 0.4766597\ttotal: 11.3s\tremaining: 5.38s\n",
      "677:\tlearn: 0.4765934\ttotal: 11.3s\tremaining: 5.36s\n",
      "678:\tlearn: 0.4765219\ttotal: 11.3s\tremaining: 5.34s\n",
      "679:\tlearn: 0.4764628\ttotal: 11.3s\tremaining: 5.33s\n",
      "680:\tlearn: 0.4763799\ttotal: 11.3s\tremaining: 5.31s\n",
      "681:\tlearn: 0.4763369\ttotal: 11.3s\tremaining: 5.29s\n",
      "682:\tlearn: 0.4762850\ttotal: 11.4s\tremaining: 5.27s\n",
      "683:\tlearn: 0.4762455\ttotal: 11.4s\tremaining: 5.26s\n",
      "684:\tlearn: 0.4761634\ttotal: 11.4s\tremaining: 5.24s\n",
      "685:\tlearn: 0.4761144\ttotal: 11.4s\tremaining: 5.22s\n",
      "686:\tlearn: 0.4760520\ttotal: 11.4s\tremaining: 5.21s\n",
      "687:\tlearn: 0.4759861\ttotal: 11.4s\tremaining: 5.19s\n",
      "688:\tlearn: 0.4759346\ttotal: 11.5s\tremaining: 5.17s\n",
      "689:\tlearn: 0.4758922\ttotal: 11.5s\tremaining: 5.16s\n",
      "690:\tlearn: 0.4758447\ttotal: 11.5s\tremaining: 5.14s\n",
      "691:\tlearn: 0.4757899\ttotal: 11.5s\tremaining: 5.12s\n",
      "692:\tlearn: 0.4757385\ttotal: 11.5s\tremaining: 5.1s\n",
      "693:\tlearn: 0.4756900\ttotal: 11.5s\tremaining: 5.08s\n",
      "694:\tlearn: 0.4756582\ttotal: 11.5s\tremaining: 5.07s\n",
      "695:\tlearn: 0.4756047\ttotal: 11.6s\tremaining: 5.05s\n",
      "696:\tlearn: 0.4755445\ttotal: 11.6s\tremaining: 5.03s\n",
      "697:\tlearn: 0.4754754\ttotal: 11.6s\tremaining: 5.01s\n",
      "698:\tlearn: 0.4754213\ttotal: 11.6s\tremaining: 5s\n",
      "699:\tlearn: 0.4753667\ttotal: 11.6s\tremaining: 4.98s\n",
      "700:\tlearn: 0.4753064\ttotal: 11.6s\tremaining: 4.96s\n",
      "701:\tlearn: 0.4752448\ttotal: 11.6s\tremaining: 4.95s\n",
      "702:\tlearn: 0.4751515\ttotal: 11.7s\tremaining: 4.93s\n",
      "703:\tlearn: 0.4750824\ttotal: 11.7s\tremaining: 4.91s\n",
      "704:\tlearn: 0.4750032\ttotal: 11.7s\tremaining: 4.89s\n",
      "705:\tlearn: 0.4749174\ttotal: 11.7s\tremaining: 4.87s\n",
      "706:\tlearn: 0.4748546\ttotal: 11.7s\tremaining: 4.86s\n",
      "707:\tlearn: 0.4747605\ttotal: 11.7s\tremaining: 4.84s\n",
      "708:\tlearn: 0.4747340\ttotal: 11.8s\tremaining: 4.82s\n",
      "709:\tlearn: 0.4746797\ttotal: 11.8s\tremaining: 4.81s\n",
      "710:\tlearn: 0.4746355\ttotal: 11.8s\tremaining: 4.79s\n",
      "711:\tlearn: 0.4745758\ttotal: 11.8s\tremaining: 4.78s\n",
      "712:\tlearn: 0.4745044\ttotal: 11.8s\tremaining: 4.76s\n",
      "713:\tlearn: 0.4744409\ttotal: 11.9s\tremaining: 4.75s\n",
      "714:\tlearn: 0.4744025\ttotal: 11.9s\tremaining: 4.73s\n",
      "715:\tlearn: 0.4743573\ttotal: 11.9s\tremaining: 4.71s\n",
      "716:\tlearn: 0.4743067\ttotal: 11.9s\tremaining: 4.7s\n",
      "717:\tlearn: 0.4742094\ttotal: 11.9s\tremaining: 4.68s\n",
      "718:\tlearn: 0.4741413\ttotal: 11.9s\tremaining: 4.67s\n",
      "719:\tlearn: 0.4740632\ttotal: 12s\tremaining: 4.65s\n",
      "720:\tlearn: 0.4739857\ttotal: 12s\tremaining: 4.63s\n",
      "721:\tlearn: 0.4739174\ttotal: 12s\tremaining: 4.62s\n",
      "722:\tlearn: 0.4738359\ttotal: 12s\tremaining: 4.6s\n",
      "723:\tlearn: 0.4737796\ttotal: 12s\tremaining: 4.58s\n",
      "724:\tlearn: 0.4737179\ttotal: 12s\tremaining: 4.57s\n",
      "725:\tlearn: 0.4736412\ttotal: 12.1s\tremaining: 4.55s\n",
      "726:\tlearn: 0.4736035\ttotal: 12.1s\tremaining: 4.53s\n",
      "727:\tlearn: 0.4735437\ttotal: 12.1s\tremaining: 4.51s\n",
      "728:\tlearn: 0.4734902\ttotal: 12.1s\tremaining: 4.5s\n",
      "729:\tlearn: 0.4734396\ttotal: 12.1s\tremaining: 4.48s\n",
      "730:\tlearn: 0.4733638\ttotal: 12.1s\tremaining: 4.47s\n",
      "731:\tlearn: 0.4733161\ttotal: 12.2s\tremaining: 4.45s\n",
      "732:\tlearn: 0.4732550\ttotal: 12.2s\tremaining: 4.43s\n",
      "733:\tlearn: 0.4731821\ttotal: 12.2s\tremaining: 4.42s\n",
      "734:\tlearn: 0.4731205\ttotal: 12.2s\tremaining: 4.4s\n",
      "735:\tlearn: 0.4730782\ttotal: 12.2s\tremaining: 4.39s\n",
      "736:\tlearn: 0.4730104\ttotal: 12.2s\tremaining: 4.37s\n",
      "737:\tlearn: 0.4729509\ttotal: 12.3s\tremaining: 4.35s\n",
      "738:\tlearn: 0.4729074\ttotal: 12.3s\tremaining: 4.34s\n",
      "739:\tlearn: 0.4728352\ttotal: 12.3s\tremaining: 4.32s\n",
      "740:\tlearn: 0.4727845\ttotal: 12.3s\tremaining: 4.3s\n",
      "741:\tlearn: 0.4727146\ttotal: 12.3s\tremaining: 4.28s\n",
      "742:\tlearn: 0.4726452\ttotal: 12.3s\tremaining: 4.27s\n",
      "743:\tlearn: 0.4726007\ttotal: 12.4s\tremaining: 4.25s\n",
      "744:\tlearn: 0.4725673\ttotal: 12.4s\tremaining: 4.23s\n",
      "745:\tlearn: 0.4725152\ttotal: 12.4s\tremaining: 4.21s\n",
      "746:\tlearn: 0.4724666\ttotal: 12.4s\tremaining: 4.2s\n",
      "747:\tlearn: 0.4723846\ttotal: 12.4s\tremaining: 4.18s\n",
      "748:\tlearn: 0.4723367\ttotal: 12.4s\tremaining: 4.17s\n",
      "749:\tlearn: 0.4722721\ttotal: 12.4s\tremaining: 4.15s\n",
      "750:\tlearn: 0.4722229\ttotal: 12.5s\tremaining: 4.13s\n",
      "751:\tlearn: 0.4721826\ttotal: 12.5s\tremaining: 4.11s\n",
      "752:\tlearn: 0.4721145\ttotal: 12.5s\tremaining: 4.1s\n",
      "753:\tlearn: 0.4720594\ttotal: 12.5s\tremaining: 4.08s\n",
      "754:\tlearn: 0.4719926\ttotal: 12.5s\tremaining: 4.06s\n",
      "755:\tlearn: 0.4719337\ttotal: 12.5s\tremaining: 4.04s\n",
      "756:\tlearn: 0.4718817\ttotal: 12.5s\tremaining: 4.03s\n",
      "757:\tlearn: 0.4717901\ttotal: 12.6s\tremaining: 4.01s\n",
      "758:\tlearn: 0.4717379\ttotal: 12.6s\tremaining: 3.99s\n",
      "759:\tlearn: 0.4716756\ttotal: 12.6s\tremaining: 3.98s\n",
      "760:\tlearn: 0.4716387\ttotal: 12.6s\tremaining: 3.96s\n",
      "761:\tlearn: 0.4715802\ttotal: 12.6s\tremaining: 3.94s\n",
      "762:\tlearn: 0.4715443\ttotal: 12.6s\tremaining: 3.93s\n",
      "763:\tlearn: 0.4714936\ttotal: 12.7s\tremaining: 3.91s\n",
      "764:\tlearn: 0.4714471\ttotal: 12.7s\tremaining: 3.89s\n",
      "765:\tlearn: 0.4713791\ttotal: 12.7s\tremaining: 3.88s\n",
      "766:\tlearn: 0.4713181\ttotal: 12.7s\tremaining: 3.86s\n",
      "767:\tlearn: 0.4712528\ttotal: 12.7s\tremaining: 3.84s\n",
      "768:\tlearn: 0.4711887\ttotal: 12.7s\tremaining: 3.83s\n",
      "769:\tlearn: 0.4710994\ttotal: 12.8s\tremaining: 3.81s\n",
      "770:\tlearn: 0.4710559\ttotal: 12.8s\tremaining: 3.79s\n",
      "771:\tlearn: 0.4710239\ttotal: 12.8s\tremaining: 3.77s\n",
      "772:\tlearn: 0.4709690\ttotal: 12.8s\tremaining: 3.76s\n",
      "773:\tlearn: 0.4709364\ttotal: 12.8s\tremaining: 3.74s\n",
      "774:\tlearn: 0.4708685\ttotal: 12.8s\tremaining: 3.72s\n",
      "775:\tlearn: 0.4708319\ttotal: 12.8s\tremaining: 3.71s\n",
      "776:\tlearn: 0.4707845\ttotal: 12.9s\tremaining: 3.69s\n",
      "777:\tlearn: 0.4707058\ttotal: 12.9s\tremaining: 3.67s\n",
      "778:\tlearn: 0.4706588\ttotal: 12.9s\tremaining: 3.66s\n",
      "779:\tlearn: 0.4705997\ttotal: 12.9s\tremaining: 3.64s\n",
      "780:\tlearn: 0.4705349\ttotal: 12.9s\tremaining: 3.62s\n",
      "781:\tlearn: 0.4704678\ttotal: 12.9s\tremaining: 3.61s\n",
      "782:\tlearn: 0.4704129\ttotal: 12.9s\tremaining: 3.59s\n",
      "783:\tlearn: 0.4703568\ttotal: 13s\tremaining: 3.57s\n",
      "784:\tlearn: 0.4703030\ttotal: 13s\tremaining: 3.56s\n",
      "785:\tlearn: 0.4702325\ttotal: 13s\tremaining: 3.54s\n",
      "786:\tlearn: 0.4701657\ttotal: 13s\tremaining: 3.52s\n",
      "787:\tlearn: 0.4701076\ttotal: 13s\tremaining: 3.51s\n",
      "788:\tlearn: 0.4700769\ttotal: 13s\tremaining: 3.49s\n",
      "789:\tlearn: 0.4699994\ttotal: 13.1s\tremaining: 3.47s\n",
      "790:\tlearn: 0.4699608\ttotal: 13.1s\tremaining: 3.46s\n",
      "791:\tlearn: 0.4699151\ttotal: 13.1s\tremaining: 3.44s\n",
      "792:\tlearn: 0.4698472\ttotal: 13.1s\tremaining: 3.42s\n",
      "793:\tlearn: 0.4697707\ttotal: 13.1s\tremaining: 3.41s\n",
      "794:\tlearn: 0.4697213\ttotal: 13.1s\tremaining: 3.39s\n",
      "795:\tlearn: 0.4696621\ttotal: 13.2s\tremaining: 3.37s\n",
      "796:\tlearn: 0.4696025\ttotal: 13.2s\tremaining: 3.35s\n",
      "797:\tlearn: 0.4695471\ttotal: 13.2s\tremaining: 3.34s\n",
      "798:\tlearn: 0.4694923\ttotal: 13.2s\tremaining: 3.32s\n",
      "799:\tlearn: 0.4694364\ttotal: 13.2s\tremaining: 3.31s\n",
      "800:\tlearn: 0.4693957\ttotal: 13.2s\tremaining: 3.29s\n",
      "801:\tlearn: 0.4693384\ttotal: 13.3s\tremaining: 3.27s\n",
      "802:\tlearn: 0.4693037\ttotal: 13.3s\tremaining: 3.26s\n",
      "803:\tlearn: 0.4692327\ttotal: 13.3s\tremaining: 3.24s\n",
      "804:\tlearn: 0.4691581\ttotal: 13.3s\tremaining: 3.22s\n",
      "805:\tlearn: 0.4691027\ttotal: 13.3s\tremaining: 3.21s\n",
      "806:\tlearn: 0.4690339\ttotal: 13.3s\tremaining: 3.19s\n",
      "807:\tlearn: 0.4689828\ttotal: 13.4s\tremaining: 3.17s\n",
      "808:\tlearn: 0.4689170\ttotal: 13.4s\tremaining: 3.16s\n",
      "809:\tlearn: 0.4688637\ttotal: 13.4s\tremaining: 3.14s\n",
      "810:\tlearn: 0.4688199\ttotal: 13.4s\tremaining: 3.12s\n",
      "811:\tlearn: 0.4687625\ttotal: 13.4s\tremaining: 3.1s\n",
      "812:\tlearn: 0.4687163\ttotal: 13.4s\tremaining: 3.09s\n",
      "813:\tlearn: 0.4686572\ttotal: 13.4s\tremaining: 3.07s\n",
      "814:\tlearn: 0.4685943\ttotal: 13.5s\tremaining: 3.05s\n",
      "815:\tlearn: 0.4685442\ttotal: 13.5s\tremaining: 3.04s\n",
      "816:\tlearn: 0.4684595\ttotal: 13.5s\tremaining: 3.02s\n",
      "817:\tlearn: 0.4683995\ttotal: 13.5s\tremaining: 3s\n",
      "818:\tlearn: 0.4683338\ttotal: 13.5s\tremaining: 2.99s\n",
      "819:\tlearn: 0.4682750\ttotal: 13.5s\tremaining: 2.97s\n",
      "820:\tlearn: 0.4682060\ttotal: 13.6s\tremaining: 2.95s\n",
      "821:\tlearn: 0.4681341\ttotal: 13.6s\tremaining: 2.94s\n",
      "822:\tlearn: 0.4680932\ttotal: 13.6s\tremaining: 2.92s\n",
      "823:\tlearn: 0.4680485\ttotal: 13.6s\tremaining: 2.9s\n",
      "824:\tlearn: 0.4680068\ttotal: 13.6s\tremaining: 2.89s\n",
      "825:\tlearn: 0.4679430\ttotal: 13.6s\tremaining: 2.87s\n",
      "826:\tlearn: 0.4678814\ttotal: 13.6s\tremaining: 2.85s\n",
      "827:\tlearn: 0.4678132\ttotal: 13.7s\tremaining: 2.84s\n",
      "828:\tlearn: 0.4677562\ttotal: 13.7s\tremaining: 2.82s\n",
      "829:\tlearn: 0.4677086\ttotal: 13.7s\tremaining: 2.8s\n",
      "830:\tlearn: 0.4676556\ttotal: 13.7s\tremaining: 2.79s\n",
      "831:\tlearn: 0.4676070\ttotal: 13.7s\tremaining: 2.77s\n",
      "832:\tlearn: 0.4675573\ttotal: 13.7s\tremaining: 2.75s\n",
      "833:\tlearn: 0.4674961\ttotal: 13.8s\tremaining: 2.74s\n",
      "834:\tlearn: 0.4674375\ttotal: 13.8s\tremaining: 2.72s\n",
      "835:\tlearn: 0.4673719\ttotal: 13.8s\tremaining: 2.71s\n",
      "836:\tlearn: 0.4673127\ttotal: 13.8s\tremaining: 2.69s\n",
      "837:\tlearn: 0.4672510\ttotal: 13.8s\tremaining: 2.67s\n",
      "838:\tlearn: 0.4671973\ttotal: 13.8s\tremaining: 2.66s\n",
      "839:\tlearn: 0.4671421\ttotal: 13.9s\tremaining: 2.64s\n",
      "840:\tlearn: 0.4670825\ttotal: 13.9s\tremaining: 2.62s\n",
      "841:\tlearn: 0.4670346\ttotal: 13.9s\tremaining: 2.61s\n",
      "842:\tlearn: 0.4669814\ttotal: 13.9s\tremaining: 2.59s\n",
      "843:\tlearn: 0.4669212\ttotal: 13.9s\tremaining: 2.57s\n",
      "844:\tlearn: 0.4668736\ttotal: 13.9s\tremaining: 2.56s\n",
      "845:\tlearn: 0.4667971\ttotal: 14s\tremaining: 2.54s\n",
      "846:\tlearn: 0.4667305\ttotal: 14s\tremaining: 2.52s\n",
      "847:\tlearn: 0.4666823\ttotal: 14s\tremaining: 2.51s\n",
      "848:\tlearn: 0.4666173\ttotal: 14s\tremaining: 2.49s\n",
      "849:\tlearn: 0.4665763\ttotal: 14s\tremaining: 2.48s\n",
      "850:\tlearn: 0.4665350\ttotal: 14.1s\tremaining: 2.46s\n",
      "851:\tlearn: 0.4664917\ttotal: 14.1s\tremaining: 2.45s\n",
      "852:\tlearn: 0.4664359\ttotal: 14.1s\tremaining: 2.43s\n",
      "853:\tlearn: 0.4663764\ttotal: 14.1s\tremaining: 2.41s\n",
      "854:\tlearn: 0.4663225\ttotal: 14.1s\tremaining: 2.4s\n",
      "855:\tlearn: 0.4662684\ttotal: 14.2s\tremaining: 2.38s\n",
      "856:\tlearn: 0.4662033\ttotal: 14.2s\tremaining: 2.37s\n",
      "857:\tlearn: 0.4661556\ttotal: 14.2s\tremaining: 2.35s\n",
      "858:\tlearn: 0.4660995\ttotal: 14.2s\tremaining: 2.33s\n",
      "859:\tlearn: 0.4660366\ttotal: 14.2s\tremaining: 2.32s\n",
      "860:\tlearn: 0.4659908\ttotal: 14.3s\tremaining: 2.3s\n",
      "861:\tlearn: 0.4659397\ttotal: 14.3s\tremaining: 2.29s\n",
      "862:\tlearn: 0.4658890\ttotal: 14.3s\tremaining: 2.27s\n",
      "863:\tlearn: 0.4658331\ttotal: 14.3s\tremaining: 2.26s\n",
      "864:\tlearn: 0.4657967\ttotal: 14.4s\tremaining: 2.24s\n",
      "865:\tlearn: 0.4657605\ttotal: 14.4s\tremaining: 2.22s\n",
      "866:\tlearn: 0.4656854\ttotal: 14.4s\tremaining: 2.21s\n",
      "867:\tlearn: 0.4656179\ttotal: 14.4s\tremaining: 2.19s\n",
      "868:\tlearn: 0.4655561\ttotal: 14.4s\tremaining: 2.17s\n",
      "869:\tlearn: 0.4654727\ttotal: 14.4s\tremaining: 2.16s\n",
      "870:\tlearn: 0.4654058\ttotal: 14.5s\tremaining: 2.14s\n",
      "871:\tlearn: 0.4653472\ttotal: 14.5s\tremaining: 2.12s\n",
      "872:\tlearn: 0.4653003\ttotal: 14.5s\tremaining: 2.11s\n",
      "873:\tlearn: 0.4652501\ttotal: 14.5s\tremaining: 2.09s\n",
      "874:\tlearn: 0.4651972\ttotal: 14.5s\tremaining: 2.07s\n",
      "875:\tlearn: 0.4651668\ttotal: 14.5s\tremaining: 2.06s\n",
      "876:\tlearn: 0.4651091\ttotal: 14.6s\tremaining: 2.04s\n",
      "877:\tlearn: 0.4650539\ttotal: 14.6s\tremaining: 2.02s\n",
      "878:\tlearn: 0.4650157\ttotal: 14.6s\tremaining: 2.01s\n",
      "879:\tlearn: 0.4649398\ttotal: 14.6s\tremaining: 1.99s\n",
      "880:\tlearn: 0.4648947\ttotal: 14.6s\tremaining: 1.98s\n",
      "881:\tlearn: 0.4648542\ttotal: 14.7s\tremaining: 1.96s\n",
      "882:\tlearn: 0.4647972\ttotal: 14.7s\tremaining: 1.94s\n",
      "883:\tlearn: 0.4647235\ttotal: 14.7s\tremaining: 1.93s\n",
      "884:\tlearn: 0.4646751\ttotal: 14.7s\tremaining: 1.91s\n",
      "885:\tlearn: 0.4646336\ttotal: 14.7s\tremaining: 1.89s\n",
      "886:\tlearn: 0.4645859\ttotal: 14.7s\tremaining: 1.88s\n",
      "887:\tlearn: 0.4645246\ttotal: 14.8s\tremaining: 1.86s\n",
      "888:\tlearn: 0.4644676\ttotal: 14.8s\tremaining: 1.84s\n",
      "889:\tlearn: 0.4643998\ttotal: 14.8s\tremaining: 1.83s\n",
      "890:\tlearn: 0.4643368\ttotal: 14.8s\tremaining: 1.81s\n",
      "891:\tlearn: 0.4642866\ttotal: 14.8s\tremaining: 1.79s\n",
      "892:\tlearn: 0.4642351\ttotal: 14.8s\tremaining: 1.78s\n",
      "893:\tlearn: 0.4641766\ttotal: 14.9s\tremaining: 1.76s\n",
      "894:\tlearn: 0.4641181\ttotal: 14.9s\tremaining: 1.75s\n",
      "895:\tlearn: 0.4640503\ttotal: 14.9s\tremaining: 1.73s\n",
      "896:\tlearn: 0.4639976\ttotal: 14.9s\tremaining: 1.71s\n",
      "897:\tlearn: 0.4639440\ttotal: 14.9s\tremaining: 1.7s\n",
      "898:\tlearn: 0.4638882\ttotal: 14.9s\tremaining: 1.68s\n",
      "899:\tlearn: 0.4638147\ttotal: 15s\tremaining: 1.66s\n",
      "900:\tlearn: 0.4637836\ttotal: 15s\tremaining: 1.65s\n",
      "901:\tlearn: 0.4637321\ttotal: 15s\tremaining: 1.63s\n",
      "902:\tlearn: 0.4636830\ttotal: 15s\tremaining: 1.61s\n",
      "903:\tlearn: 0.4636362\ttotal: 15s\tremaining: 1.59s\n",
      "904:\tlearn: 0.4635917\ttotal: 15s\tremaining: 1.58s\n",
      "905:\tlearn: 0.4635411\ttotal: 15.1s\tremaining: 1.56s\n",
      "906:\tlearn: 0.4634914\ttotal: 15.1s\tremaining: 1.54s\n",
      "907:\tlearn: 0.4634551\ttotal: 15.1s\tremaining: 1.53s\n",
      "908:\tlearn: 0.4634097\ttotal: 15.1s\tremaining: 1.51s\n",
      "909:\tlearn: 0.4633750\ttotal: 15.1s\tremaining: 1.5s\n",
      "910:\tlearn: 0.4633090\ttotal: 15.1s\tremaining: 1.48s\n",
      "911:\tlearn: 0.4632582\ttotal: 15.2s\tremaining: 1.46s\n",
      "912:\tlearn: 0.4631879\ttotal: 15.2s\tremaining: 1.45s\n",
      "913:\tlearn: 0.4631037\ttotal: 15.2s\tremaining: 1.43s\n",
      "914:\tlearn: 0.4630667\ttotal: 15.2s\tremaining: 1.41s\n",
      "915:\tlearn: 0.4630034\ttotal: 15.2s\tremaining: 1.4s\n",
      "916:\tlearn: 0.4629632\ttotal: 15.2s\tremaining: 1.38s\n",
      "917:\tlearn: 0.4629116\ttotal: 15.2s\tremaining: 1.36s\n",
      "918:\tlearn: 0.4628659\ttotal: 15.3s\tremaining: 1.34s\n",
      "919:\tlearn: 0.4628066\ttotal: 15.3s\tremaining: 1.33s\n",
      "920:\tlearn: 0.4627512\ttotal: 15.3s\tremaining: 1.31s\n",
      "921:\tlearn: 0.4627071\ttotal: 15.3s\tremaining: 1.29s\n",
      "922:\tlearn: 0.4626772\ttotal: 15.3s\tremaining: 1.28s\n",
      "923:\tlearn: 0.4626290\ttotal: 15.3s\tremaining: 1.26s\n",
      "924:\tlearn: 0.4625936\ttotal: 15.4s\tremaining: 1.25s\n",
      "925:\tlearn: 0.4625476\ttotal: 15.4s\tremaining: 1.23s\n",
      "926:\tlearn: 0.4624922\ttotal: 15.4s\tremaining: 1.21s\n",
      "927:\tlearn: 0.4624157\ttotal: 15.4s\tremaining: 1.2s\n",
      "928:\tlearn: 0.4623545\ttotal: 15.4s\tremaining: 1.18s\n",
      "929:\tlearn: 0.4623112\ttotal: 15.4s\tremaining: 1.16s\n",
      "930:\tlearn: 0.4622511\ttotal: 15.5s\tremaining: 1.15s\n",
      "931:\tlearn: 0.4622157\ttotal: 15.5s\tremaining: 1.13s\n",
      "932:\tlearn: 0.4621538\ttotal: 15.5s\tremaining: 1.11s\n",
      "933:\tlearn: 0.4621076\ttotal: 15.5s\tremaining: 1.09s\n",
      "934:\tlearn: 0.4620607\ttotal: 15.5s\tremaining: 1.08s\n",
      "935:\tlearn: 0.4620123\ttotal: 15.5s\tremaining: 1.06s\n",
      "936:\tlearn: 0.4619274\ttotal: 15.5s\tremaining: 1.04s\n",
      "937:\tlearn: 0.4618761\ttotal: 15.6s\tremaining: 1.03s\n",
      "938:\tlearn: 0.4618411\ttotal: 15.6s\tremaining: 1.01s\n",
      "939:\tlearn: 0.4617983\ttotal: 15.6s\tremaining: 995ms\n",
      "940:\tlearn: 0.4617472\ttotal: 15.6s\tremaining: 979ms\n",
      "941:\tlearn: 0.4616904\ttotal: 15.6s\tremaining: 962ms\n",
      "942:\tlearn: 0.4616579\ttotal: 15.6s\tremaining: 945ms\n",
      "943:\tlearn: 0.4615780\ttotal: 15.7s\tremaining: 928ms\n",
      "944:\tlearn: 0.4615314\ttotal: 15.7s\tremaining: 912ms\n",
      "945:\tlearn: 0.4614607\ttotal: 15.7s\tremaining: 895ms\n",
      "946:\tlearn: 0.4614182\ttotal: 15.7s\tremaining: 878ms\n",
      "947:\tlearn: 0.4613641\ttotal: 15.7s\tremaining: 862ms\n",
      "948:\tlearn: 0.4613278\ttotal: 15.7s\tremaining: 845ms\n",
      "949:\tlearn: 0.4612697\ttotal: 15.7s\tremaining: 828ms\n",
      "950:\tlearn: 0.4612002\ttotal: 15.8s\tremaining: 812ms\n",
      "951:\tlearn: 0.4611374\ttotal: 15.8s\tremaining: 795ms\n",
      "952:\tlearn: 0.4610842\ttotal: 15.8s\tremaining: 779ms\n",
      "953:\tlearn: 0.4610519\ttotal: 15.8s\tremaining: 762ms\n",
      "954:\tlearn: 0.4609817\ttotal: 15.8s\tremaining: 746ms\n",
      "955:\tlearn: 0.4609155\ttotal: 15.8s\tremaining: 729ms\n",
      "956:\tlearn: 0.4608532\ttotal: 15.9s\tremaining: 713ms\n",
      "957:\tlearn: 0.4608051\ttotal: 15.9s\tremaining: 696ms\n",
      "958:\tlearn: 0.4607583\ttotal: 15.9s\tremaining: 680ms\n",
      "959:\tlearn: 0.4607047\ttotal: 15.9s\tremaining: 663ms\n",
      "960:\tlearn: 0.4606495\ttotal: 15.9s\tremaining: 647ms\n",
      "961:\tlearn: 0.4605835\ttotal: 15.9s\tremaining: 630ms\n",
      "962:\tlearn: 0.4605319\ttotal: 16s\tremaining: 613ms\n",
      "963:\tlearn: 0.4604732\ttotal: 16s\tremaining: 597ms\n",
      "964:\tlearn: 0.4604248\ttotal: 16s\tremaining: 580ms\n",
      "965:\tlearn: 0.4603795\ttotal: 16s\tremaining: 564ms\n",
      "966:\tlearn: 0.4603168\ttotal: 16s\tremaining: 547ms\n",
      "967:\tlearn: 0.4602516\ttotal: 16.1s\tremaining: 531ms\n",
      "968:\tlearn: 0.4602014\ttotal: 16.1s\tremaining: 514ms\n",
      "969:\tlearn: 0.4601532\ttotal: 16.1s\tremaining: 498ms\n",
      "970:\tlearn: 0.4601156\ttotal: 16.1s\tremaining: 481ms\n",
      "971:\tlearn: 0.4600586\ttotal: 16.1s\tremaining: 465ms\n",
      "972:\tlearn: 0.4600028\ttotal: 16.2s\tremaining: 449ms\n",
      "973:\tlearn: 0.4599329\ttotal: 16.2s\tremaining: 432ms\n",
      "974:\tlearn: 0.4598768\ttotal: 16.2s\tremaining: 416ms\n",
      "975:\tlearn: 0.4598295\ttotal: 16.2s\tremaining: 399ms\n",
      "976:\tlearn: 0.4597885\ttotal: 16.2s\tremaining: 382ms\n",
      "977:\tlearn: 0.4597261\ttotal: 16.3s\tremaining: 366ms\n",
      "978:\tlearn: 0.4596701\ttotal: 16.3s\tremaining: 349ms\n",
      "979:\tlearn: 0.4596147\ttotal: 16.3s\tremaining: 333ms\n",
      "980:\tlearn: 0.4595607\ttotal: 16.3s\tremaining: 316ms\n",
      "981:\tlearn: 0.4595082\ttotal: 16.3s\tremaining: 299ms\n",
      "982:\tlearn: 0.4594635\ttotal: 16.3s\tremaining: 283ms\n",
      "983:\tlearn: 0.4594208\ttotal: 16.4s\tremaining: 266ms\n",
      "984:\tlearn: 0.4593763\ttotal: 16.4s\tremaining: 249ms\n",
      "985:\tlearn: 0.4593223\ttotal: 16.4s\tremaining: 233ms\n",
      "986:\tlearn: 0.4592632\ttotal: 16.4s\tremaining: 216ms\n",
      "987:\tlearn: 0.4592086\ttotal: 16.4s\tremaining: 199ms\n",
      "988:\tlearn: 0.4591532\ttotal: 16.4s\tremaining: 183ms\n",
      "989:\tlearn: 0.4591118\ttotal: 16.5s\tremaining: 166ms\n",
      "990:\tlearn: 0.4590673\ttotal: 16.5s\tremaining: 150ms\n",
      "991:\tlearn: 0.4590199\ttotal: 16.5s\tremaining: 133ms\n",
      "992:\tlearn: 0.4589769\ttotal: 16.5s\tremaining: 116ms\n",
      "993:\tlearn: 0.4589202\ttotal: 16.5s\tremaining: 99.7ms\n",
      "994:\tlearn: 0.4588645\ttotal: 16.5s\tremaining: 83.1ms\n",
      "995:\tlearn: 0.4588147\ttotal: 16.5s\tremaining: 66.5ms\n",
      "996:\tlearn: 0.4587808\ttotal: 16.6s\tremaining: 49.8ms\n",
      "997:\tlearn: 0.4587544\ttotal: 16.6s\tremaining: 33.2ms\n",
      "998:\tlearn: 0.4586845\ttotal: 16.6s\tremaining: 16.6ms\n",
      "999:\tlearn: 0.4586206\ttotal: 16.6s\tremaining: 0us\n",
      "0.7691854180996365 \n",
      "\n",
      "              precision    recall  f1-score   support\n",
      "\n",
      "           0       0.77      0.99      0.87      7819\n",
      "           1       0.52      0.04      0.08      2358\n",
      "\n",
      "    accuracy                           0.77     10177\n",
      "   macro avg       0.65      0.52      0.48     10177\n",
      "weighted avg       0.72      0.77      0.69     10177\n",
      "\n",
      "0.6482730194257261\n"
     ]
    }
   ],
   "source": [
    "cat= CatBoostClassifier()\n",
    "cat.fit(X_train, y_train)\n",
    "predict_test = cat.predict(X_test)\n",
    "print(metrics.accuracy_score(predict_test,y_test),'\\n')\n",
    "print(metrics.classification_report(y_test, predict_test))\n",
    "print(roc_auc_score(predict_test,y_test))"
   ]
  },
  {
   "cell_type": "code",
   "execution_count": 48,
   "metadata": {
    "scrolled": false
   },
   "outputs": [
    {
     "name": "stdout",
     "output_type": "stream",
     "text": [
      "[[7723   96]\n",
      " [2253  105]]\n"
     ]
    },
    {
     "data": {
      "text/plain": [
       "<AxesSubplot:>"
      ]
     },
     "execution_count": 48,
     "metadata": {},
     "output_type": "execute_result"
    },
    {
     "data": {
      "image/png": "[encoded data removed]",
      "text/plain": [
       "<Figure size 432x288 with 2 Axes>"
      ]
     },
     "metadata": {
      "needs_background": "light"
     },
     "output_type": "display_data"
    }
   ],
   "source": [
    "cm=confusion_matrix(y_test,predict_test)\n",
    "print(cm)\n",
    "sns.heatmap(cm,annot=True,cmap='BuPu')"
   ]
  },
  {
   "cell_type": "markdown",
   "metadata": {},
   "source": [
    "#### Hyperparameter tunning for Catboost Model "
   ]
  },
  {
   "cell_type": "code",
   "execution_count": 49,
   "metadata": {},
   "outputs": [
    {
     "name": "stdout",
     "output_type": "stream",
     "text": [
      "0:\tlearn: 0.6904210\ttotal: 9.34ms\tremaining: 84ms\n",
      "1:\tlearn: 0.6877571\ttotal: 18.7ms\tremaining: 74.9ms\n",
      "2:\tlearn: 0.6851331\ttotal: 29.3ms\tremaining: 68.3ms\n",
      "3:\tlearn: 0.6825631\ttotal: 38.7ms\tremaining: 58.1ms\n",
      "4:\tlearn: 0.6800474\ttotal: 48.2ms\tremaining: 48.2ms\n",
      "5:\tlearn: 0.6775931\ttotal: 57.8ms\tremaining: 38.5ms\n",
      "6:\tlearn: 0.6751659\ttotal: 67.2ms\tremaining: 28.8ms\n",
      "7:\tlearn: 0.6727845\ttotal: 76.1ms\tremaining: 19ms\n",
      "8:\tlearn: 0.6704571\ttotal: 84.7ms\tremaining: 9.41ms\n",
      "9:\tlearn: 0.6681261\ttotal: 93.5ms\tremaining: 0us\n"
     ]
    },
    {
     "data": {
      "text/plain": [
       "GridSearchCV(cv=2,\n",
       "             estimator=<catboost.core.CatBoostClassifier object at 0x000002CC1A75E280>,\n",
       "             n_jobs=-1,\n",
       "             param_grid={'depth': [4, 5, 6, 7, 8, 9, 10],\n",
       "                         'iterations': [10, 20, 30, 40, 50, 60, 70, 80, 90,\n",
       "                                        100],\n",
       "                         'learning_rate': [0.01, 0.02, 0.03, 0.04]})"
      ]
     },
     "execution_count": 49,
     "metadata": {},
     "output_type": "execute_result"
    }
   ],
   "source": [
    "cat= CatBoostClassifier()\n",
    "parameters = {'depth'         : [4,5,6,7,8,9, 10],\n",
    "                 'learning_rate' : [0.01,0.02,0.03,0.04],\n",
    "                  'iterations'    : [10, 20,30,40,50,60,70,80,90, 100]\n",
    "                 }\n",
    "Grid_CBC = GridSearchCV(estimator=cat, param_grid = parameters, cv = 2, n_jobs=-1)\n",
    "Grid_CBC.fit(X_train, y_train)"
   ]
  },
  {
   "cell_type": "code",
   "execution_count": 50,
   "metadata": {},
   "outputs": [
    {
     "name": "stdout",
     "output_type": "stream",
     "text": [
      " Results from Grid Search \n",
      "\n",
      " The best estimator across ALL searched params:\n",
      " <catboost.core.CatBoostClassifier object at 0x000002CC1A95AC70>\n",
      "\n",
      " The best score across ALL searched params:\n",
      " 0.7579904193249369\n",
      "\n",
      " The best parameters across ALL searched params:\n",
      " {'depth': 4, 'iterations': 10, 'learning_rate': 0.01}\n"
     ]
    }
   ],
   "source": [
    "print(\" Results from Grid Search \" )\n",
    "print(\"\\n The best estimator across ALL searched params:\\n\",Grid_CBC.best_estimator_)\n",
    "print(\"\\n The best score across ALL searched params:\\n\",Grid_CBC.best_score_)\n",
    "print(\"\\n The best parameters across ALL searched params:\\n\",Grid_CBC.best_params_)\n"
   ]
  },
  {
   "cell_type": "code",
   "execution_count": 51,
   "metadata": {},
   "outputs": [
    {
     "name": "stdout",
     "output_type": "stream",
     "text": [
      "0:\tlearn: 0.6904210\ttotal: 8.31ms\tremaining: 74.8ms\n",
      "1:\tlearn: 0.6877571\ttotal: 18.6ms\tremaining: 74.4ms\n",
      "2:\tlearn: 0.6851331\ttotal: 27ms\tremaining: 63ms\n",
      "3:\tlearn: 0.6825631\ttotal: 34.6ms\tremaining: 51.9ms\n",
      "4:\tlearn: 0.6800474\ttotal: 43.3ms\tremaining: 43.3ms\n",
      "5:\tlearn: 0.6775931\ttotal: 51.1ms\tremaining: 34ms\n",
      "6:\tlearn: 0.6751659\ttotal: 60.1ms\tremaining: 25.8ms\n",
      "7:\tlearn: 0.6727845\ttotal: 67.8ms\tremaining: 17ms\n",
      "8:\tlearn: 0.6704571\ttotal: 78.5ms\tremaining: 8.72ms\n",
      "9:\tlearn: 0.6681261\ttotal: 86.8ms\tremaining: 0us\n"
     ]
    },
    {
     "data": {
      "text/plain": [
       "<catboost.core.CatBoostClassifier at 0x2cc1aa2e0d0>"
      ]
     },
     "execution_count": 51,
     "metadata": {},
     "output_type": "execute_result"
    }
   ],
   "source": [
    "cat= CatBoostClassifier(depth=4,iterations=10,learning_rate=0.01)\n",
    "cat.fit(X_train, y_train)"
   ]
  },
  {
   "cell_type": "markdown",
   "metadata": {},
   "source": [
    "# Prediction on test data"
   ]
  },
  {
   "cell_type": "code",
   "execution_count": 54,
   "metadata": {},
   "outputs": [],
   "source": [
    "ID = df2['ID']"
   ]
  },
  {
   "cell_type": "code",
   "execution_count": 55,
   "metadata": {},
   "outputs": [],
   "source": [
    "test1 = df2.drop(['ID'],axis=1)"
   ]
  },
  {
   "cell_type": "code",
   "execution_count": 56,
   "metadata": {},
   "outputs": [],
   "source": [
    "final = cat.predict(test)"
   ]
  },
  {
   "cell_type": "code",
   "execution_count": 57,
   "metadata": {},
   "outputs": [],
   "source": [
    "submission_cat = pd.DataFrame(data = {'ID': ID, 'Response': final})"
   ]
  },
  {
   "cell_type": "code",
   "execution_count": 58,
   "metadata": {},
   "outputs": [],
   "source": [
    "submission_cat.to_csv('submission.csv', index = False)"
   ]
  }
 ],
 "metadata": {
  "kernelspec": {
   "display_name": "Python 3",
   "language": "python",
   "name": "python3"
  },
  "language_info": {
   "codemirror_mode": {
    "name": "ipython",
    "version": 3
   },
   "file_extension": ".py",
   "mimetype": "text/x-python",
   "name": "python",
   "nbconvert_exporter": "python",
   "pygments_lexer": "ipython3",
   "version": "3.8.5"
  }
 },
 "nbformat": 4,
 "nbformat_minor": 4
}
